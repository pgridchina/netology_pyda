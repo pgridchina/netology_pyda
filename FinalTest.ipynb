{
 "cells": [
  {
   "cell_type": "code",
   "execution_count": null,
   "metadata": {},
   "outputs": [],
   "source": [
    "import matplotlib.pyplot as plt\n",
    "import numpy as np\n",
    "from numpy.random import choice\n",
    "\n",
    "from scipy.optimize import minimize\n",
    "%matplotlib inline"
   ]
  },
  {
   "cell_type": "markdown",
   "metadata": {},
   "source": [
    "### Задание 1"
   ]
  },
  {
   "cell_type": "markdown",
   "metadata": {},
   "source": [
    "Дана матрица рейтингов фильмов (строки - пользователи (10 человек), столбцы - фильмы (15 фильмов))"
   ]
  },
  {
   "cell_type": "code",
   "execution_count": null,
   "metadata": {},
   "outputs": [],
   "source": [
    "raitings = np.array([[ 4,  4,  9,  4,  1,  6, 10,  7,  9,  6,  9,  2,  8,  6,  6],\n",
    "                     [ 9,  2,  5, 10,  7,  8, 10,  5,  6,  2,  1,  6,  8,  9,  7],\n",
    "                     [ 1,  6,  8,  8,  4,  9,  3,  8, 10,  5,  2,  6,  8,  1,  6],\n",
    "                     [ 6,  1,  9,  7,  7,  9,  2,  3,  5,  1,  6,  6,  3,  2,  7],\n",
    "                     [ 3,  7,  3,  5,  7,  9,  9,  6,  2,  9,  1,  2,  8, 10,  6],\n",
    "                     [ 8,  3,  7,  3,  8,  6,  1,  8,  8,  6,  1,  9,  4, 10,  1],\n",
    "                     [ 9,  8,  4,  8,  8, 10,  6,  1,  1,  2,  9,  5,  2,  7,  2],\n",
    "                     [ 4,  1,  6,  4,  3, 10,  4,  4,  2,  8,  7,  9,  3,  8,  3],\n",
    "                     [ 2,  7,  7,  6, 10,  6,  8,  9,  8,  6, 10,  1,  7, 10,  4],\n",
    "                     [ 5, 10,  8,  8,  9,  7,  2,  9,  9, 10,  8,  8,  8,  6, 10]])"
   ]
  },
  {
   "cell_type": "markdown",
   "metadata": {},
   "source": [
    "<b> a) </b> Необходимо найти наиболее похожего пользователя по косинусной метрике для каждого из (ответ: 10 пар вида (x, y), где y - наиболее похожий пользователь на пользователя x)."
   ]
  },
  {
   "cell_type": "code",
   "execution_count": 151,
   "metadata": {},
   "outputs": [
    {
     "data": {
      "text/plain": [
       "[[0, 8],\n",
       " [1, 4],\n",
       " [2, 9],\n",
       " [3, 9],\n",
       " [4, 8],\n",
       " [5, 9],\n",
       " [6, 3],\n",
       " [7, 5],\n",
       " [8, 0],\n",
       " [9, 2]]"
      ]
     },
     "execution_count": 151,
     "metadata": {},
     "output_type": "execute_result"
    }
   ],
   "source": [
    "resp = []\n",
    "from numpy.linalg import norm\n",
    "for i,x in enumerate(raitings):\n",
    "    dif = 0\n",
    "    \n",
    "    for j,y in enumerate(raitings):\n",
    "        if i != j : \n",
    "            if dif < (np.dot(x,y) / (norm(x) * norm(y))):\n",
    "                dif = (np.dot(x,y) / (norm(x) * norm(y)))\n",
    "                y_j = j\n",
    "           \n",
    "        #print(i,j,dif,(np.dot(x,y) / (norm(x) * norm(y))))\n",
    "    \n",
    "    resp.append([i,y_j])  #Это правильно или по-другому надо делать?\n",
    "        \n",
    "resp"
   ]
  },
  {
   "cell_type": "markdown",
   "metadata": {},
   "source": [
    "<b> b) </b>Предположим, вы захотели сжать признаковые описания пользователя с 15 фильмов, до, скажем, 5-ти признаков, как вы это сделаете?"
   ]
  },
  {
   "cell_type": "code",
   "execution_count": 49,
   "metadata": {},
   "outputs": [
    {
     "data": {
      "text/plain": [
       "array([[-5.30986101,  1.92919845, -4.93300027,  2.70188013,  5.50497886],\n",
       "       [ 2.87763403,  2.71659559,  1.40592782,  7.26325751, -4.50322291],\n",
       "       [-4.94010408, -6.68861167, -0.94550184,  3.61556661, -0.68969272],\n",
       "       [ 5.14939908, -6.28027284, -4.65978558,  1.09024004, -1.01471112],\n",
       "       [-1.37488691,  7.54357985,  4.00834369,  2.1284001 , -0.16324949],\n",
       "       [ 2.65341956, -3.77075601,  8.58430748, -1.46628319,  1.67401769],\n",
       "       [ 8.61573944,  3.78603335, -4.02721027, -4.37582577, -3.13880277],\n",
       "       [ 5.39658258, -1.0170466 ,  1.01456742, -1.89512837,  6.54883538],\n",
       "       [-5.7843488 ,  5.29857107, -1.48083611, -3.71295542,  0.21312695],\n",
       "       [-7.2835739 , -3.51729118,  1.03318766, -5.34915166, -4.43127987]])"
      ]
     },
     "execution_count": 49,
     "metadata": {},
     "output_type": "execute_result"
    }
   ],
   "source": [
    "#Воспользуемся методом главных компонент\n",
    "import numpy as np\n",
    "from sklearn.decomposition import PCA\n",
    "\n",
    "pca = PCA(n_components=5)\n",
    "pca.fit(raitings)\n",
    "#print(pca.explained_variance_ratio_)\n",
    "\n",
    "X = pca.transform(raitings)\n",
    "X"
   ]
  },
  {
   "cell_type": "code",
   "execution_count": 54,
   "metadata": {},
   "outputs": [
    {
     "data": {
      "text/plain": [
       "array([[23.41982063, -5.36092136,  3.83196779, -4.06950174,  1.10267269],\n",
       "       [24.76774917,  4.52188701,  1.35815965,  1.58128545,  8.59912002],\n",
       "       [22.27728589, -6.96492049, -4.84461485, -0.47661647,  3.37152266],\n",
       "       [19.4257757 ,  2.64575227, -6.86014009, -4.76604765,  1.96075707],\n",
       "       [22.8146354 ,  0.51464093,  7.70180188,  4.42379773,  1.29124163],\n",
       "       [21.76961656,  1.94294987, -4.56934779,  8.32306487, -2.21887359],\n",
       "       [21.23427453,  9.78047778,  1.16340271, -4.86074521, -2.60815471],\n",
       "       [19.97476815,  4.00048677, -1.67456316,  1.1512346 , -3.5637169 ],\n",
       "       [26.39306998, -3.03090482,  5.86422753, -1.67503491, -3.71500141],\n",
       "       [29.94016844, -4.82012297, -3.48912415,  0.05527083, -3.62526487]])"
      ]
     },
     "execution_count": 54,
     "metadata": {},
     "output_type": "execute_result"
    }
   ],
   "source": [
    "from sklearn.decomposition import TruncatedSVD\n",
    "svd = TruncatedSVD(n_components=5)\n",
    "X_reduced = svd.fit_transform(raitings)\n",
    "X_reduced"
   ]
  },
  {
   "cell_type": "markdown",
   "metadata": {},
   "source": [
    "### Задание 2"
   ]
  },
  {
   "cell_type": "markdown",
   "metadata": {},
   "source": [
    "Вычислите производную $tg^2(sin(x) + cos(2x+3))$ в точке $x_0=1$ на python и на бумаге (просто подставить точку в производную и ничего не упрощать)."
   ]
  },
  {
   "cell_type": "markdown",
   "metadata": {},
   "source": [
    "2tg(sin(1) + cos(5))(cos(1) -2sin(5))\n"
   ]
  },
  {
   "cell_type": "code",
   "execution_count": 51,
   "metadata": {},
   "outputs": [
    {
     "data": {
      "text/plain": [
       "55.3859176464222"
      ]
     },
     "execution_count": 51,
     "metadata": {},
     "output_type": "execute_result"
    }
   ],
   "source": [
    "import math\n",
    "from scipy.misc import derivative\n",
    "def f(x):\n",
    "    return math.tan(math.sin(x) + math.cos(2*x+3))**2\n",
    "derivative(f, 1, dx=1e-6,n=1)"
   ]
  },
  {
   "cell_type": "markdown",
   "metadata": {},
   "source": [
    "### Задание 3"
   ]
  },
  {
   "cell_type": "markdown",
   "metadata": {},
   "source": [
    "Дана функция с неизвестными параметрами a и b, вам также известны значения функции fx в точках x. Найдите оптимальные параметры a, b, минимизирующие абсолютную ошибку <b>error</b>"
   ]
  },
  {
   "cell_type": "code",
   "execution_count": 111,
   "metadata": {},
   "outputs": [],
   "source": [
    "def f(x, a, b):\n",
    "    return np.e**a * np.sin(b*x) + x"
   ]
  },
  {
   "cell_type": "code",
   "execution_count": 112,
   "metadata": {},
   "outputs": [],
   "source": [
    "x = np.array([0.        , 0.26315789, 0.52631579, 0.78947368, 1.05263158,\n",
    "              1.31578947, 1.57894737, 1.84210526, 2.10526316, 2.36842105,\n",
    "              2.63157895, 2.89473684, 3.15789474, 3.42105263, 3.68421053,\n",
    "              3.94736842, 4.21052632, 4.47368421, 4.73684211, 5.        ])"
   ]
  },
  {
   "cell_type": "code",
   "execution_count": 113,
   "metadata": {},
   "outputs": [],
   "source": [
    "fx = np.array([  0.        , -12.01819092, -18.90968634, -17.68786571,\n",
    "                -8.7529108 ,   4.27524517,  16.06801336,  21.81250213,\n",
    "                19.22059845,   9.48411207,  -3.22273056, -13.48576488,\n",
    "               -16.91096359, -11.95866834,  -0.58630088,  12.56873816,\n",
    "                22.12489421,  24.20292139,  18.04522521,   6.33211092])"
   ]
  },
  {
   "cell_type": "code",
   "execution_count": 114,
   "metadata": {},
   "outputs": [
    {
     "data": {
      "image/png": "[encoded data removed]",
      "text/plain": [
       "<Figure size 432x288 with 1 Axes>"
      ]
     },
     "metadata": {
      "needs_background": "light"
     },
     "output_type": "display_data"
    }
   ],
   "source": [
    "plt.plot(x, fx)\n",
    "plt.show()"
   ]
  },
  {
   "cell_type": "code",
   "execution_count": 115,
   "metadata": {},
   "outputs": [],
   "source": [
    "def error(params):\n",
    "    return np.sum(np.abs(fx - f(x, params[0], params[1])))"
   ]
  },
  {
   "cell_type": "code",
   "execution_count": 126,
   "metadata": {},
   "outputs": [],
   "source": [
    "from scipy.optimize import differential_evolution"
   ]
  },
  {
   "cell_type": "code",
   "execution_count": 132,
   "metadata": {},
   "outputs": [
    {
     "data": {
      "text/plain": [
       "     fun: 1.5132830286646026e-06\n",
       "     jac: array([132.41256092, 502.55754962])\n",
       " message: 'Optimization terminated successfully.'\n",
       "    nfev: 1953\n",
       "     nit: 62\n",
       " success: True\n",
       "       x: array([ 3. , -2.5])"
      ]
     },
     "execution_count": 132,
     "metadata": {},
     "output_type": "execute_result"
    }
   ],
   "source": [
    "bounds = [(-5, 5), (-5, 5)]\n",
    "result = differential_evolution(error, bounds, seed=42)\n",
    "result"
   ]
  },
  {
   "cell_type": "code",
   "execution_count": 129,
   "metadata": {},
   "outputs": [
    {
     "data": {
      "text/plain": [
       "1.5163282505170628e-06"
      ]
     },
     "execution_count": 129,
     "metadata": {},
     "output_type": "execute_result"
    }
   ],
   "source": [
    "error([3,-2.5])"
   ]
  },
  {
   "cell_type": "markdown",
   "metadata": {},
   "source": [
    "### Задание 4"
   ]
  },
  {
   "cell_type": "markdown",
   "metadata": {},
   "source": [
    "Создайте собственную дискретную случайную величину с 20 значениями. Сгенерируйте 1000 выборок размера 50. Посчитайте среднее для каждой выборки. Постройте гистограмму распределения средних."
   ]
  },
  {
   "cell_type": "code",
   "execution_count": 66,
   "metadata": {},
   "outputs": [
    {
     "data": {
      "text/plain": [
       "array([50, 90, 39, 40, 53, 96, 20, 13, 38, 16,  3, 18, 31, 86,  5, 56, 45,\n",
       "       25, 56, 17])"
      ]
     },
     "execution_count": 66,
     "metadata": {},
     "output_type": "execute_result"
    }
   ],
   "source": [
    "P1 = np.random.randint(low=1, high=100, size=20)\n",
    "P1"
   ]
  },
  {
   "cell_type": "code",
   "execution_count": 69,
   "metadata": {},
   "outputs": [
    {
     "data": {
      "text/plain": [
       "array([[31, 45, 56, ..., 56,  5, 56],\n",
       "       [38, 38, 25, ..., 20,  3,  5],\n",
       "       [20, 16, 13, ..., 20, 18,  3],\n",
       "       ...,\n",
       "       [56, 40, 90, ..., 31, 86, 20],\n",
       "       [17, 45, 13, ..., 53,  5, 17],\n",
       "       [56, 86, 38, ..., 17, 56, 31]])"
      ]
     },
     "execution_count": 69,
     "metadata": {},
     "output_type": "execute_result"
    }
   ],
   "source": [
    "sampl1 = choice(P1, size=(1000, 50))\n",
    "sampl1"
   ]
  },
  {
   "cell_type": "code",
   "execution_count": 95,
   "metadata": {},
   "outputs": [
    {
     "data": {
      "text/plain": [
       "array([40.82, 34.32, 37.1 , 40.12, 40.92, 42.78, 37.46, 36.46, 38.28,\n",
       "       42.64, 42.68, 43.76, 40.44, 39.28, 41.22, 35.9 , 47.76, 37.92,\n",
       "       36.52, 33.78, 37.7 , 44.54, 37.86, 40.92, 40.2 , 39.6 , 39.02,\n",
       "       42.28, 43.36, 37.  , 47.66, 45.34, 41.22, 44.38, 29.12, 35.62,\n",
       "       34.7 , 47.18, 39.66, 45.04, 38.98, 38.74, 45.22, 42.36, 40.82,\n",
       "       46.78, 41.88, 44.9 , 44.48, 40.6 , 47.96, 43.76, 42.  , 40.04,\n",
       "       42.5 , 40.1 , 40.66, 36.82, 45.02, 41.9 , 40.46, 42.62, 42.76,\n",
       "       42.68, 40.28, 37.74, 40.7 , 45.  , 44.24, 39.82, 43.14, 48.86,\n",
       "       40.7 , 36.1 , 41.72, 39.06, 43.16, 38.3 , 35.88, 41.84, 44.38,\n",
       "       39.6 , 45.22, 51.32, 41.22, 40.08, 45.1 , 45.46, 35.26, 45.1 ,\n",
       "       36.84, 38.94, 37.36, 39.3 , 38.06, 38.02, 37.68, 41.14, 36.4 ,\n",
       "       41.78, 42.72, 36.94, 40.12, 31.5 , 42.08, 41.84, 40.1 , 42.96,\n",
       "       38.76, 50.82, 44.28, 40.2 , 40.2 , 40.  , 40.22, 37.08, 39.4 ,\n",
       "       45.26, 42.26, 40.3 , 43.44, 39.58, 36.26, 39.72, 40.46, 40.26,\n",
       "       38.98, 37.2 , 44.94, 43.28, 41.38, 45.36, 44.14, 40.38, 33.68,\n",
       "       39.76, 45.76, 37.98, 41.68, 36.02, 43.06, 41.96, 32.94, 44.78,\n",
       "       41.24, 41.1 , 36.32, 40.84, 50.1 , 46.14, 42.12, 44.02, 34.66,\n",
       "       52.06, 40.58, 33.04, 41.6 , 38.26, 40.32, 39.16, 45.96, 37.28,\n",
       "       37.7 , 44.84, 50.06, 47.76, 36.32, 42.64, 41.04, 36.2 , 35.48,\n",
       "       32.94, 36.66, 33.88, 37.78, 39.84, 48.92, 39.54, 35.52, 37.22,\n",
       "       46.62, 37.66, 41.66, 38.68, 37.62, 38.26, 32.84, 35.1 , 46.1 ,\n",
       "       38.82, 38.82, 36.8 , 42.04, 43.88, 39.4 , 36.32, 44.96, 40.22,\n",
       "       30.4 , 39.96, 44.28, 43.7 , 31.3 , 38.02, 33.98, 40.24, 37.6 ,\n",
       "       42.96, 36.02, 42.58, 45.98, 48.52, 42.44, 43.7 , 41.4 , 41.82,\n",
       "       40.72, 44.98, 37.1 , 36.8 , 42.22, 44.12, 39.6 , 43.84, 43.54,\n",
       "       38.68, 37.32, 38.32, 38.92, 35.88, 43.76, 47.84, 38.88, 45.46,\n",
       "       44.66, 42.18, 38.72, 37.86, 38.64, 42.74, 35.54, 39.7 , 34.9 ,\n",
       "       35.6 , 41.84, 40.7 , 38.8 , 34.84, 39.88, 39.98, 44.94, 34.74,\n",
       "       41.5 , 40.98, 46.36, 38.56, 43.14, 40.74, 36.5 , 41.5 , 39.6 ,\n",
       "       35.94, 46.46, 41.64, 41.66, 37.5 , 40.36, 42.24, 43.42, 40.46,\n",
       "       50.24, 35.24, 41.78, 39.46, 38.14, 35.08, 41.4 , 33.92, 38.7 ,\n",
       "       37.92, 44.04, 37.42, 36.32, 29.76, 45.82, 36.86, 50.02, 42.58,\n",
       "       45.06, 36.46, 29.4 , 33.9 , 38.64, 34.26, 40.04, 37.54, 40.08,\n",
       "       40.52, 41.54, 38.68, 39.96, 40.36, 35.6 , 45.94, 43.  , 43.82,\n",
       "       42.04, 35.28, 34.9 , 38.66, 38.9 , 40.7 , 40.38, 41.14, 40.68,\n",
       "       36.44, 44.96, 42.36, 40.32, 33.6 , 41.5 , 38.82, 42.68, 32.78,\n",
       "       37.8 , 35.58, 44.1 , 37.98, 43.06, 41.12, 38.04, 38.8 , 38.76,\n",
       "       42.6 , 36.72, 39.48, 45.64, 39.02, 41.74, 45.86, 38.22, 36.98,\n",
       "       41.04, 43.62, 43.34, 43.92, 37.02, 42.28, 35.18, 39.28, 46.06,\n",
       "       39.5 , 35.28, 46.86, 33.38, 36.72, 36.86, 43.98, 47.9 , 42.46,\n",
       "       38.44, 46.94, 36.5 , 38.7 , 35.86, 43.06, 37.58, 36.46, 39.36,\n",
       "       38.42, 42.  , 41.38, 33.92, 40.64, 42.42, 40.48, 38.52, 30.62,\n",
       "       38.68, 41.6 , 41.92, 44.7 , 35.06, 41.66, 38.42, 42.16, 42.88,\n",
       "       44.64, 33.92, 41.48, 43.1 , 41.66, 40.38, 41.26, 36.96, 43.98,\n",
       "       41.18, 33.56, 44.  , 47.46, 33.66, 42.44, 37.86, 39.8 , 34.7 ,\n",
       "       43.58, 42.42, 41.06, 33.3 , 46.68, 35.9 , 39.58, 41.98, 39.34,\n",
       "       40.94, 40.46, 40.68, 35.72, 41.04, 37.98, 37.62, 36.02, 34.88,\n",
       "       39.36, 39.06, 35.2 , 34.14, 34.7 , 40.72, 39.08, 34.66, 44.22,\n",
       "       37.34, 37.74, 37.42, 38.94, 37.  , 39.2 , 34.42, 44.96, 42.6 ,\n",
       "       39.92, 36.74, 39.48, 32.36, 43.42, 41.6 , 41.66, 42.82, 45.38,\n",
       "       43.84, 40.44, 43.06, 40.28, 34.02, 37.6 , 37.18, 48.3 , 34.86,\n",
       "       36.6 , 43.7 , 36.28, 42.48, 40.52, 44.34, 32.62, 40.5 , 37.52,\n",
       "       43.46, 40.92, 44.04, 35.84, 37.6 , 39.96, 32.96, 36.88, 40.32,\n",
       "       40.7 , 48.26, 43.4 , 38.84, 41.62, 44.84, 29.56, 39.96, 39.36,\n",
       "       36.04, 41.76, 40.46, 45.14, 39.28, 35.8 , 40.5 , 39.58, 37.26,\n",
       "       39.14, 41.16, 41.42, 40.44, 43.38, 39.9 , 43.08, 43.28, 41.82,\n",
       "       43.44, 39.62, 41.22, 38.54, 40.78, 45.66, 38.98, 41.28, 46.44,\n",
       "       44.64, 40.22, 37.48, 43.06, 36.92, 40.06, 41.8 , 37.32, 40.86,\n",
       "       41.14, 44.56, 37.6 , 39.46, 44.44, 43.04, 39.1 , 42.54, 38.72,\n",
       "       50.06, 33.96, 40.64, 42.84, 41.8 , 38.26, 47.88, 43.14, 39.92,\n",
       "       39.94, 42.84, 34.08, 34.56, 38.78, 39.16, 37.86, 34.48, 39.16,\n",
       "       44.32, 43.44, 36.88, 33.98, 48.36, 31.78, 38.02, 35.96, 41.94,\n",
       "       42.38, 37.4 , 44.74, 40.84, 42.16, 44.36, 39.12, 35.18, 34.5 ,\n",
       "       41.38, 35.76, 39.06, 36.56, 33.66, 37.7 , 41.86, 46.62, 34.02,\n",
       "       38.48, 38.34, 41.8 , 38.46, 40.32, 43.52, 43.34, 32.66, 43.6 ,\n",
       "       38.4 , 39.16, 38.14, 41.14, 45.46, 38.74, 37.88, 38.74, 48.62,\n",
       "       45.32, 40.82, 41.34, 33.7 , 39.62, 40.72, 39.4 , 32.2 , 39.5 ,\n",
       "       45.12, 45.94, 42.3 , 42.  , 36.54, 42.26, 32.06, 36.22, 42.84,\n",
       "       40.36, 34.6 , 42.68, 35.94, 44.38, 46.8 , 40.58, 38.38, 39.9 ,\n",
       "       35.56, 41.46, 39.8 , 49.54, 42.38, 33.72, 33.06, 36.76, 42.16,\n",
       "       36.62, 39.28, 42.14, 42.62, 41.52, 44.16, 32.6 , 45.4 , 38.22,\n",
       "       33.48, 33.96, 40.02, 40.66, 38.74, 42.88, 41.5 , 38.4 , 39.28,\n",
       "       34.7 , 40.2 , 51.32, 42.32, 38.04, 39.04, 41.1 , 41.46, 38.78,\n",
       "       40.76, 42.16, 36.38, 38.64, 35.38, 42.22, 33.8 , 44.18, 42.46,\n",
       "       39.46, 48.36, 44.26, 42.  , 41.6 , 34.52, 46.36, 45.84, 40.34,\n",
       "       40.12, 36.44, 37.34, 42.66, 39.88, 37.68, 35.32, 40.3 , 43.9 ,\n",
       "       37.98, 37.76, 45.32, 44.08, 38.32, 37.34, 35.5 , 38.52, 39.8 ,\n",
       "       40.44, 33.4 , 30.2 , 36.7 , 35.34, 40.44, 38.46, 36.16, 40.68,\n",
       "       39.48, 34.34, 35.44, 44.04, 32.56, 39.86, 39.9 , 37.72, 40.36,\n",
       "       38.54, 36.6 , 44.98, 35.96, 38.8 , 40.48, 33.62, 43.64, 41.54,\n",
       "       36.04, 39.62, 44.22, 36.56, 37.54, 38.4 , 45.6 , 42.36, 48.82,\n",
       "       34.92, 42.68, 42.4 , 32.9 , 37.02, 39.02, 35.26, 38.08, 42.58,\n",
       "       32.6 , 40.12, 36.08, 37.  , 45.96, 44.2 , 43.04, 39.18, 45.78,\n",
       "       40.88, 38.96, 38.36, 40.64, 39.98, 43.8 , 43.26, 37.22, 35.98,\n",
       "       38.36, 48.46, 39.48, 36.94, 37.54, 46.7 , 34.84, 37.58, 39.18,\n",
       "       38.5 , 42.98, 38.5 , 41.16, 41.8 , 37.12, 37.26, 37.5 , 41.66,\n",
       "       40.36, 33.04, 36.26, 37.  , 43.56, 42.4 , 43.32, 40.62, 44.26,\n",
       "       33.16, 36.62, 48.34, 38.16, 44.72, 35.72, 44.42, 41.26, 38.44,\n",
       "       41.72, 45.42, 34.38, 39.54, 38.28, 38.92, 39.04, 41.  , 40.3 ,\n",
       "       41.04, 37.2 , 34.4 , 37.78, 41.22, 39.58, 42.7 , 42.9 , 39.62,\n",
       "       43.82, 40.6 , 48.76, 40.88, 40.82, 40.2 , 37.62, 43.26, 37.  ,\n",
       "       39.14, 34.18, 34.44, 43.88, 39.48, 45.72, 35.62, 38.86, 38.94,\n",
       "       42.14, 41.9 , 37.62, 43.12, 37.64, 43.74, 37.98, 44.16, 41.08,\n",
       "       32.42, 42.4 , 40.34, 37.94, 43.18, 40.56, 34.92, 36.48, 32.8 ,\n",
       "       43.34, 43.4 , 35.26, 39.48, 34.6 , 39.48, 37.18, 36.58, 33.82,\n",
       "       36.1 , 36.32, 40.24, 39.96, 42.96, 33.3 , 41.08, 38.58, 29.64,\n",
       "       43.46, 42.76, 33.14, 46.28, 43.54, 40.6 , 39.22, 41.72, 39.26,\n",
       "       41.4 , 40.72, 43.84, 39.94, 43.94, 40.52, 45.38, 42.96, 40.12,\n",
       "       33.4 , 41.46, 39.9 , 35.62, 40.18, 42.6 , 39.82, 37.56, 39.82,\n",
       "       39.94, 35.52, 34.02, 37.48, 43.28, 42.74, 41.42, 39.7 , 38.16,\n",
       "       41.22, 44.78, 38.38, 45.32, 36.14, 41.06, 37.14, 47.02, 36.88,\n",
       "       36.68, 39.7 , 43.12, 38.42, 40.42, 40.64, 46.82, 43.94, 37.34,\n",
       "       35.06, 38.92, 37.7 , 39.46, 33.54, 37.58, 48.02, 41.6 , 40.2 ,\n",
       "       46.58, 40.3 , 32.96, 39.56, 39.22, 39.18, 41.34, 37.68, 39.78,\n",
       "       45.46, 36.62, 40.  , 37.4 , 40.2 , 36.02, 38.6 , 40.02, 40.44,\n",
       "       39.72, 38.28, 39.34, 37.22, 40.1 , 40.04, 40.8 , 37.98, 35.44,\n",
       "       44.72, 38.72, 35.08, 37.98, 41.82, 43.26, 31.5 , 46.46, 37.46,\n",
       "       37.4 , 39.06, 49.28, 39.96, 40.82, 41.76, 43.2 , 39.2 , 45.48,\n",
       "       38.26, 44.04, 38.32, 42.74, 36.54, 43.4 , 35.42, 37.52, 41.58,\n",
       "       44.8 , 42.3 , 39.8 , 37.32, 37.46, 43.76, 43.8 , 46.96, 37.72,\n",
       "       39.54, 42.56, 40.98, 39.78, 40.28, 33.88, 38.14, 34.94, 38.64,\n",
       "       37.2 ])"
      ]
     },
     "execution_count": 95,
     "metadata": {},
     "output_type": "execute_result"
    }
   ],
   "source": [
    "fm = sampl1.mean(axis=1)\n",
    "fm"
   ]
  },
  {
   "cell_type": "code",
   "execution_count": 97,
   "metadata": {},
   "outputs": [
    {
     "data": {
      "image/png": "[encoded data removed]",
      "text/plain": [
       "<Figure size 432x288 with 1 Axes>"
      ]
     },
     "metadata": {
      "needs_background": "light"
     },
     "output_type": "display_data"
    }
   ],
   "source": [
    "plt.hist(fm, 16, density=True,color='Green')\n",
    "plt.show()"
   ]
  },
  {
   "cell_type": "markdown",
   "metadata": {},
   "source": [
    "### Задание 5"
   ]
  },
  {
   "cell_type": "markdown",
   "metadata": {},
   "source": [
    "Найдите собственные значения и собственные вектора матрицы (на python и на бумаге)\n",
    "\n",
    "[[1, 4],\n",
    "\n",
    " [1, 1]]"
   ]
  },
  {
   "cell_type": "code",
   "execution_count": 55,
   "metadata": {},
   "outputs": [],
   "source": [
    "m = np.array([[1, 4],\n",
    "              [1, 1]])"
   ]
  },
  {
   "cell_type": "code",
   "execution_count": 56,
   "metadata": {},
   "outputs": [
    {
     "name": "stdout",
     "output_type": "stream",
     "text": [
      "Собственное значение 3.0000000000000004\n",
      "соответствующий ему собственный вектор [0.89442719 0.4472136 ]\n",
      "Собственное значение -0.9999999999999996\n",
      "соответствующий ему собственный вектор [-0.89442719  0.4472136 ]\n",
      "[[ 0.89442719 -0.89442719]\n",
      " [ 0.4472136   0.4472136 ]]\n"
     ]
    }
   ],
   "source": [
    "w, v = np.linalg.eig(m)\n",
    "for i in range(len(w)):\n",
    "    print(\"Собственное значение \" + str(w[i]))   \n",
    "    print(\"соответствующий ему собственный вектор \" + str(v[:,i]))\n",
    "print(v)\n"
   ]
  },
  {
   "cell_type": "markdown",
   "metadata": {},
   "source": [
    "Из уравнения l**2 + 2l -3 = 0 Получаем 2 собственных занчения : 3 и -1.\n",
    "    Для собственного значения 3 собственный вектор (1,0.5)\n",
    "    Для собственного значения -1 собственный вектор (1,-0.5)\n",
    "    "
   ]
  },
  {
   "cell_type": "code",
   "execution_count": null,
   "metadata": {},
   "outputs": [],
   "source": []
  }
 ],
 "metadata": {
  "kernelspec": {
   "display_name": "Python 3",
   "language": "python",
   "name": "python3"
  },
  "language_info": {
   "codemirror_mode": {
    "name": "ipython",
    "version": 3
   },
   "file_extension": ".py",
   "mimetype": "text/x-python",
   "name": "python",
   "nbconvert_exporter": "python",
   "pygments_lexer": "ipython3",
   "version": "3.7.3"
  }
 },
 "nbformat": 4,
 "nbformat_minor": 2
}
