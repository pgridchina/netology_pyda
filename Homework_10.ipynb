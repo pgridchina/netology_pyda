{
 "cells": [
  {
   "cell_type": "code",
   "execution_count": 1,
   "metadata": {},
   "outputs": [],
   "source": [
    "import pandas as pd"
   ]
  },
  {
   "cell_type": "code",
   "execution_count": 14,
   "metadata": {
    "scrolled": false
   },
   "outputs": [
    {
     "data": {
      "text/html": [
       "<div>\n",
       "<style scoped>\n",
       "    .dataframe tbody tr th:only-of-type {\n",
       "        vertical-align: middle;\n",
       "    }\n",
       "\n",
       "    .dataframe tbody tr th {\n",
       "        vertical-align: top;\n",
       "    }\n",
       "\n",
       "    .dataframe thead th {\n",
       "        text-align: right;\n",
       "    }\n",
       "</style>\n",
       "<table border=\"1\" class=\"dataframe\">\n",
       "  <thead>\n",
       "    <tr style=\"text-align: right;\">\n",
       "      <th></th>\n",
       "      <th>userId</th>\n",
       "      <th>movieId</th>\n",
       "      <th>rating</th>\n",
       "      <th>timestamp</th>\n",
       "    </tr>\n",
       "  </thead>\n",
       "  <tbody>\n",
       "    <tr>\n",
       "      <th>0</th>\n",
       "      <td>1</td>\n",
       "      <td>2</td>\n",
       "      <td>3.5</td>\n",
       "      <td>1112486027</td>\n",
       "    </tr>\n",
       "    <tr>\n",
       "      <th>1</th>\n",
       "      <td>1</td>\n",
       "      <td>29</td>\n",
       "      <td>3.5</td>\n",
       "      <td>1112484676</td>\n",
       "    </tr>\n",
       "    <tr>\n",
       "      <th>2</th>\n",
       "      <td>1</td>\n",
       "      <td>32</td>\n",
       "      <td>3.5</td>\n",
       "      <td>1112484819</td>\n",
       "    </tr>\n",
       "    <tr>\n",
       "      <th>3</th>\n",
       "      <td>1</td>\n",
       "      <td>47</td>\n",
       "      <td>3.5</td>\n",
       "      <td>1112484727</td>\n",
       "    </tr>\n",
       "    <tr>\n",
       "      <th>4</th>\n",
       "      <td>1</td>\n",
       "      <td>50</td>\n",
       "      <td>3.5</td>\n",
       "      <td>1112484580</td>\n",
       "    </tr>\n",
       "  </tbody>\n",
       "</table>\n",
       "</div>"
      ],
      "text/plain": [
       "   userId  movieId  rating   timestamp\n",
       "0       1        2     3.5  1112486027\n",
       "1       1       29     3.5  1112484676\n",
       "2       1       32     3.5  1112484819\n",
       "3       1       47     3.5  1112484727\n",
       "4       1       50     3.5  1112484580"
      ]
     },
     "execution_count": 14,
     "metadata": {},
     "output_type": "execute_result"
    }
   ],
   "source": [
    "data = pd.read_csv('E:\\\\Netology\\\\Doc\\\\ml-20m\\\\ratings.csv')\n",
    "data.head()"
   ]
  },
  {
   "cell_type": "code",
   "execution_count": 39,
   "metadata": {},
   "outputs": [
    {
     "data": {
      "text/html": [
       "<div>\n",
       "<style scoped>\n",
       "    .dataframe tbody tr th:only-of-type {\n",
       "        vertical-align: middle;\n",
       "    }\n",
       "\n",
       "    .dataframe tbody tr th {\n",
       "        vertical-align: top;\n",
       "    }\n",
       "\n",
       "    .dataframe thead th {\n",
       "        text-align: right;\n",
       "    }\n",
       "</style>\n",
       "<table border=\"1\" class=\"dataframe\">\n",
       "  <thead>\n",
       "    <tr style=\"text-align: right;\">\n",
       "      <th></th>\n",
       "      <th></th>\n",
       "      <th>userId</th>\n",
       "      <th>timestamp</th>\n",
       "    </tr>\n",
       "    <tr>\n",
       "      <th>movieId</th>\n",
       "      <th>rating</th>\n",
       "      <th></th>\n",
       "      <th></th>\n",
       "    </tr>\n",
       "  </thead>\n",
       "  <tbody>\n",
       "    <tr>\n",
       "      <th>318</th>\n",
       "      <th>5.0</th>\n",
       "      <td>31896</td>\n",
       "      <td>31896</td>\n",
       "    </tr>\n",
       "  </tbody>\n",
       "</table>\n",
       "</div>"
      ],
      "text/plain": [
       "                userId  timestamp\n",
       "movieId rating                   \n",
       "318     5.0      31896      31896"
      ]
     },
     "execution_count": 39,
     "metadata": {},
     "output_type": "execute_result"
    }
   ],
   "source": [
    "data[ data.rating == 5.0 ].groupby(['movieId','rating']).count().sort_values('userId', ascending=False).head(1)"
   ]
  },
  {
   "cell_type": "code",
   "execution_count": 68,
   "metadata": {},
   "outputs": [
    {
     "data": {
      "text/html": [
       "<div>\n",
       "<style scoped>\n",
       "    .dataframe tbody tr th:only-of-type {\n",
       "        vertical-align: middle;\n",
       "    }\n",
       "\n",
       "    .dataframe tbody tr th {\n",
       "        vertical-align: top;\n",
       "    }\n",
       "\n",
       "    .dataframe thead th {\n",
       "        text-align: right;\n",
       "    }\n",
       "</style>\n",
       "<table border=\"1\" class=\"dataframe\">\n",
       "  <thead>\n",
       "    <tr style=\"text-align: right;\">\n",
       "      <th></th>\n",
       "      <th>country</th>\n",
       "      <th>year</th>\n",
       "      <th>quantity</th>\n",
       "      <th>category</th>\n",
       "    </tr>\n",
       "  </thead>\n",
       "  <tbody>\n",
       "    <tr>\n",
       "      <th>0</th>\n",
       "      <td>Austria</td>\n",
       "      <td>1996</td>\n",
       "      <td>5.0</td>\n",
       "      <td>1</td>\n",
       "    </tr>\n",
       "    <tr>\n",
       "      <th>1</th>\n",
       "      <td>Austria</td>\n",
       "      <td>1995</td>\n",
       "      <td>17.0</td>\n",
       "      <td>1</td>\n",
       "    </tr>\n",
       "    <tr>\n",
       "      <th>2</th>\n",
       "      <td>Belgium</td>\n",
       "      <td>2014</td>\n",
       "      <td>0.0</td>\n",
       "      <td>1</td>\n",
       "    </tr>\n",
       "    <tr>\n",
       "      <th>3</th>\n",
       "      <td>Belgium</td>\n",
       "      <td>2013</td>\n",
       "      <td>0.0</td>\n",
       "      <td>1</td>\n",
       "    </tr>\n",
       "    <tr>\n",
       "      <th>4</th>\n",
       "      <td>Belgium</td>\n",
       "      <td>2012</td>\n",
       "      <td>35.0</td>\n",
       "      <td>1</td>\n",
       "    </tr>\n",
       "  </tbody>\n",
       "</table>\n",
       "</div>"
      ],
      "text/plain": [
       "   country  year  quantity  category\n",
       "0  Austria  1996       5.0         1\n",
       "1  Austria  1995      17.0         1\n",
       "2  Belgium  2014       0.0         1\n",
       "3  Belgium  2013       0.0         1\n",
       "4  Belgium  2012      35.0         1"
      ]
     },
     "execution_count": 68,
     "metadata": {},
     "output_type": "execute_result"
    }
   ],
   "source": [
    "# Задание 2\n",
    "data = pd.read_csv('E:\\\\Netology\\\\Doc\\\\10._Основы_pandas\\\\power.csv')\n",
    "data.head() "
   ]
  },
  {
   "cell_type": "code",
   "execution_count": 72,
   "metadata": {},
   "outputs": [
    {
     "data": {
      "text/plain": [
       "240580.0"
      ]
     },
     "execution_count": 72,
     "metadata": {},
     "output_type": "execute_result"
    }
   ],
   "source": [
    "data[((data.country==\"Estonia\") | (data.country==\"Lithuania\") | (data.country==\"Latvia\"))\n",
    "    & ((data.category==4)|(data.category==12)|(data.category==21))\n",
    "    &(data.year >= 2005)  & (data.year <= 2010)\n",
    "    &(data.quantity > 0)]['quantity'].sum()\n"
   ]
  },
  {
   "cell_type": "code",
   "execution_count": 76,
   "metadata": {},
   "outputs": [
    {
     "data": {
      "text/plain": [
       "240580.0"
      ]
     },
     "execution_count": 76,
     "metadata": {},
     "output_type": "execute_result"
    }
   ],
   "source": [
    "# и более гуманный вариант\n",
    "data[(data.country.isin([\"Estonia\",\"Lithuania\",\"Latvia\"]))\n",
    "    & (data.category.isin([4,12,21]))\n",
    "    &(data.year >= 2005)  & (data.year <= 2010)\n",
    "    &(data.quantity > 0)]['quantity'].sum()\n"
   ]
  },
  {
   "cell_type": "code",
   "execution_count": 82,
   "metadata": {},
   "outputs": [
    {
     "data": {
      "text/plain": [
       "[                               Type    Last   Chg.  Chg.%  Time\n",
       " 0  Нефть (BRENT) Курс нефти сегодня  63.330  0.000  0.000   NaN\n",
       " 1   Нефть (WTI) Цены на нефть (WTI)  57.880  0.000  0.000   NaN\n",
       " 2          Сахар котировки на сахар  12.630  0.000  0.000   NaN\n",
       " 3                   Газ Цена на газ   2.669  0.001  0.037   NaN,\n",
       "                                     Type          Last      Chg.     Chg.%  \\\n",
       " 0                      ВТБ Акции ОАО ВТБ       0.04686  +0.00404   9.43484   \n",
       " 1                 Газпром Акции газпрома     248.14000     +6.27   2.59000   \n",
       " 2                    Лукоил Акции Лукойл    6167.50000       0.0   0.00000   \n",
       " 3                Роснефть Акции Роснефти     457.05000    +35.80   8.50000   \n",
       " 4               Сбербанк Акции Сбербанка     239.86000     -1.29  -0.53000   \n",
       " 5   Сургутнефтегаз Акции Сургутнефтегаза      46.46000    +4.845  11.64200   \n",
       " 6              Норникель Акции Норникель   17708.00000         0   0.00000   \n",
       " 7               Аэрофлот Акции Аерофлота     105.45000     +8.64   8.92000   \n",
       " 8            Северсталь Акции Северсталь     880.60000      +4.8   0.50000   \n",
       " 9            Транснефть Акции транснефти  174800.00000    +8 500   5.00000   \n",
       " 10     Ростелеком Курс акций ростелекома      80.95000     +8.12  11.15000   \n",
       " 11                     RUSAL акции RUSAL       3.49000     -0.01  -0.29000   \n",
       " \n",
       "     Time  \n",
       " 0    NaN  \n",
       " 1    NaN  \n",
       " 2    NaN  \n",
       " 3    NaN  \n",
       " 4    NaN  \n",
       " 5    NaN  \n",
       " 6    NaN  \n",
       " 7    NaN  \n",
       " 8    NaN  \n",
       " 9    NaN  \n",
       " 10   NaN  \n",
       " 11   NaN  ,\n",
       "                           Type      Last   Chg.  Chg.%  Time\n",
       " 0      Серебро Цена на серебро    16.943  0.001  0.006   NaN\n",
       " 1      Платина Цены на платину   890.600 -0.100 -0.000   NaN\n",
       " 2    Палладий Цена на палладий  1667.350  0.100  0.010   NaN\n",
       " 3      Медь Цена меди на бирже     2.636  0.000  0.000   NaN\n",
       " 4  Золото Цена золота на бирже  1466.540 -0.100 -0.010   NaN,\n",
       "                                 Type    Last   Chg.  Chg.%  Time\n",
       " 0               Яндекс Акции яндекса   35.77   0.00   0.00   NaN\n",
       " 1          Microsoft Microsoft Corp.  149.76   0.00   0.00   NaN\n",
       " 2                  APPLE Акции APPLE  264.99   0.00   0.00   NaN\n",
       " 3                Toyota Акции Тойоты  120.94   0.00   0.00   NaN\n",
       " 4   Volkswagen Курс акций Volkswagen  181.66   0.00   0.00   NaN\n",
       " 5       Facebook Цена акций Facebook  194.98   0.00   0.00   NaN\n",
       " 6          Tesla Цены на акции Тесла  351.83   0.00   0.00   NaN\n",
       " 7          Twiter Цена акций твитера   29.25   0.00   0.00   NaN\n",
       " 8  Hasbro Цена на акции Hasbro, Inc.   95.38  10.51  12.38   NaN,\n",
       "                                                 Type       Last     Chg.  \\\n",
       " 0                         EURUSD Курс евро к доллару    1.10534 -0.00009   \n",
       " 1   AUDUSD Курс австралийского доллара к доллару сша    0.68139 -0.00053   \n",
       " 2         AUDCAD Australian Dollar / Canadian Dollar    0.90128 -0.00019   \n",
       " 3                          EURCHF Euro / Swiss Franc    1.09399  0.00037   \n",
       " 4                  EURGBP Euro / Great Britain Pound    0.85658  0.00016   \n",
       " 5                         EURJPY Euro / Japanese Yen  120.27500  0.05200   \n",
       " 6          GBPJPY Great Britain Pound / Japanese Yen  140.38300  0.04300   \n",
       " 7                        GBPUSD Курс фунта к доллару    1.29016  0.00012   \n",
       " 8       USDCAD Курс канадского доллара к доллару сша    1.32272  0.00067   \n",
       " 9              NZDUSD New Zealand Dollar / US Dollar    0.64005  0.00002   \n",
       " 10                    USDCHF US Dollar / Swiss Franc    0.98974  0.00017   \n",
       " 11         USDCNH Курс китайского юаня к доллару США    7.00424 -0.06175   \n",
       " 12                        USDJPY Курс йены к доллару  108.81600  0.03200   \n",
       " \n",
       "       Chg.%  Time  \n",
       " 0  -0.00814   NaN  \n",
       " 1  -0.07772   NaN  \n",
       " 2  -0.02108   NaN  \n",
       " 3   0.03383   NaN  \n",
       " 4   0.01868   NaN  \n",
       " 5   0.04300   NaN  \n",
       " 6   0.03100   NaN  \n",
       " 7   0.00930   NaN  \n",
       " 8   0.05068   NaN  \n",
       " 9   0.00312   NaN  \n",
       " 10  0.01718   NaN  \n",
       " 11 -0.87390   NaN  \n",
       " 12  0.02900   NaN  ,\n",
       "                                                  Type           Last  \\\n",
       " 0                               Bitcoin Курс биткоина    8462.110000   \n",
       " 1          Litecoin Курс лайткоин к доллару (LTC/USD)      57.572000   \n",
       " 2   BitcoinCash Курс Биткоин кеш к доллару США (BC...     263.060000   \n",
       " 3                                           Dash Dash      67.670000   \n",
       " 4                                       Ripple Ripple       0.258870   \n",
       " 5                                   Ethereum Ethereum     179.410000   \n",
       " 6                                   EmerCoin EmerCoin       0.140050   \n",
       " 7                                   NameCoin NameCoin       0.274000   \n",
       " 8                                   PeerCoin PeerCoin       1.300000   \n",
       " 9                             BTCRUB биткоин в рублях  247059.000000   \n",
       " 10                              BTCEUR биткоин в евро    7646.300000   \n",
       " 11                                        Zcash (ZEC)      36.155000   \n",
       " 12                                          NEO (NEO)      11.922000   \n",
       " 13                                          EOS (EOS)       3.337000   \n",
       " 14                                         TRON (TRX)       0.018524   \n",
       " 15                                             Monero      62.236000   \n",
       " 16                                            Cardano       0.044262   \n",
       " 17                                               IOTA       0.256680   \n",
       " 18                       ETC/USD эфириум классик, ETC       4.556000   \n",
       " \n",
       "          Chg.      Chg.%  Time  \n",
       " 0      +9.140   0.108000   NaN  \n",
       " 1      -0.847  -1.450000   NaN  \n",
       " 2      +0.540   0.206000   NaN  \n",
       " 3      +0.070   0.104000   NaN  \n",
       " 4    -0.00087  -0.334950   NaN  \n",
       " 5      -0.117  -0.065000   NaN  \n",
       " 6     0.00000   0.000000   NaN  \n",
       " 7      -0.051 -15.692000   NaN  \n",
       " 8       +0.16  14.040000   NaN  \n",
       " 9   -3 097.00  -1.240000   NaN  \n",
       " 10    +15.790   0.207000   NaN  \n",
       " 11     +0.155   0.431000   NaN  \n",
       " 12     -0.470  -3.795000   NaN  \n",
       " 13     -0.045  -1.331000   NaN  \n",
       " 14  -0.000185  -0.988829   NaN  \n",
       " 15     +0.659   1.070000   NaN  \n",
       " 16  +0.000288   0.654932   NaN  \n",
       " 17   +0.00047   0.183440   NaN  \n",
       " 18     -0.085  -1.832000   NaN  ,\n",
       "                                        Type       Last    Chg.  Chg.%  Time\n",
       " 0   Фьючерс РТС Курс фьючерса на индекс РТС  118130.00    0.00    0.0   NaN\n",
       " 1                      РТС Курс индекса РТС    1451.85    0.00    0.0   NaN\n",
       " 2                                     DAX30   13228.60   -2.50   -0.0   NaN\n",
       " 3                       Индекс Dow 30 (DJI)   27937.00  -12.00   -0.0   NaN\n",
       " 4                                      FTSE    7137.70 -162.00   -2.2   NaN\n",
       " 5                                    CAC 40    5279.70    0.00    0.0   NaN\n",
       " 6                                Nasdaq 100    8313.37   -0.25   -0.0   NaN\n",
       " 7                              Russell 2000    1594.50    6.20    0.4   NaN\n",
       " 8                                   S&P 500    2816.30   10.80    0.4   NaN\n",
       " 9                                   IBEX 35    9246.30    0.00    0.0   NaN\n",
       " 10                               Nikkei 225   21779.00   39.00    0.0   NaN\n",
       " 11                            Euro Stoxx 50    3705.70   -1.90   -0.1   NaN\n",
       " 12                                  S&P 500    3117.60   -2.30   -0.1   NaN\n",
       " 13                              S&P/ASX 200    6790.90    1.00    0.0   NaN\n",
       " 14                                      MIB   23552.00    0.00    0.0   NaN,\n",
       "                                Type     Last    Chg.   Chg.%  Time\n",
       " 0  EURRUB Курс евро к рублю сегодня  70.3945  0.0000  0.0000   NaN\n",
       " 1       USDRUB Курс рубля к доллару  63.7530  0.0131  0.0206   NaN]"
      ]
     },
     "execution_count": 82,
     "metadata": {},
     "output_type": "execute_result"
    }
   ],
   "source": [
    "# Задание 3\n",
    "df = pd.read_html('https://fortrader.org/quotes')\n",
    "df"
   ]
  },
  {
   "cell_type": "code",
   "execution_count": 83,
   "metadata": {},
   "outputs": [
    {
     "data": {
      "text/plain": [
       "[                               Type    Last   Chg.  Chg.%  Time\n",
       " 0  Нефть (BRENT) Курс нефти сегодня  63.330  0.000  0.000   NaN\n",
       " 1   Нефть (WTI) Цены на нефть (WTI)  57.880  0.000  0.000   NaN\n",
       " 2          Сахар котировки на сахар  12.630  0.000  0.000   NaN\n",
       " 3                   Газ Цена на газ   2.669  0.001  0.037   NaN,\n",
       "                                     Type          Last      Chg.     Chg.%  \\\n",
       " 0                      ВТБ Акции ОАО ВТБ       0.04686  +0.00404   9.43484   \n",
       " 1                 Газпром Акции газпрома     248.14000     +6.27   2.59000   \n",
       " 2                    Лукоил Акции Лукойл    6167.50000       0.0   0.00000   \n",
       " 3                Роснефть Акции Роснефти     457.05000    +35.80   8.50000   \n",
       " 4               Сбербанк Акции Сбербанка     239.86000     -1.29  -0.53000   \n",
       " 5   Сургутнефтегаз Акции Сургутнефтегаза      46.46000    +4.845  11.64200   \n",
       " 6              Норникель Акции Норникель   17708.00000         0   0.00000   \n",
       " 7               Аэрофлот Акции Аерофлота     105.45000     +8.64   8.92000   \n",
       " 8            Северсталь Акции Северсталь     880.60000      +4.8   0.50000   \n",
       " 9            Транснефть Акции транснефти  174800.00000    +8 500   5.00000   \n",
       " 10     Ростелеком Курс акций ростелекома      80.95000     +8.12  11.15000   \n",
       " 11                     RUSAL акции RUSAL       3.49000     -0.01  -0.29000   \n",
       " \n",
       "     Time  \n",
       " 0    NaN  \n",
       " 1    NaN  \n",
       " 2    NaN  \n",
       " 3    NaN  \n",
       " 4    NaN  \n",
       " 5    NaN  \n",
       " 6    NaN  \n",
       " 7    NaN  \n",
       " 8    NaN  \n",
       " 9    NaN  \n",
       " 10   NaN  \n",
       " 11   NaN  ]"
      ]
     },
     "execution_count": 83,
     "metadata": {},
     "output_type": "execute_result"
    }
   ],
   "source": [
    "df[:2]"
   ]
  },
  {
   "cell_type": "code",
   "execution_count": null,
   "metadata": {},
   "outputs": [],
   "source": []
  }
 ],
 "metadata": {
  "kernelspec": {
   "display_name": "Python 3",
   "language": "python",
   "name": "python3"
  },
  "language_info": {
   "codemirror_mode": {
    "name": "ipython",
    "version": 3
   },
   "file_extension": ".py",
   "mimetype": "text/x-python",
   "name": "python",
   "nbconvert_exporter": "python",
   "pygments_lexer": "ipython3",
   "version": "3.7.3"
  }
 },
 "nbformat": 4,
 "nbformat_minor": 2
}
