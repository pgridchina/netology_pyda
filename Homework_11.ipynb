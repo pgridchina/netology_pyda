{
 "cells": [
  {
   "cell_type": "code",
   "execution_count": 1,
   "metadata": {},
   "outputs": [],
   "source": [
    "import pandas as pd"
   ]
  },
  {
   "cell_type": "code",
   "execution_count": 2,
   "metadata": {},
   "outputs": [],
   "source": [
    "data = pd.read_csv('E:\\\\Netology\\\\Doc\\\\ml-20m\\\\ratings.csv')\n"
   ]
  },
  {
   "cell_type": "code",
   "execution_count": 3,
   "metadata": {},
   "outputs": [],
   "source": [
    "def fun_class(row):\n",
    "    if row['rating'] <= 2: return 'Low'\n",
    "    elif row['rating'] <= 4: return 'Middle'\n",
    "    elif row['rating'] <= 5: return 'High'\n",
    "    return 'Error'"
   ]
  },
  {
   "cell_type": "code",
   "execution_count": null,
   "metadata": {},
   "outputs": [],
   "source": [
    "data['class'] = data.apply(fun_class, axis=1)\n"
   ]
  },
  {
   "cell_type": "code",
   "execution_count": null,
   "metadata": {},
   "outputs": [],
   "source": [
    "dt = data.head(20)\n",
    "dt['class'] = dt.apply(fun_class, axis=1)\n",
    "dt.head()"
   ]
  },
  {
   "cell_type": "code",
   "execution_count": null,
   "metadata": {},
   "outputs": [],
   "source": [
    "# Задание 2\n",
    "df = pd.read_csv('E:\\\\Netology\\\\Doc\\\\keywords.csv')\n",
    "df.head()"
   ]
  },
  {
   "cell_type": "code",
   "execution_count": 19,
   "metadata": {},
   "outputs": [],
   "source": [
    "# Функция определения региона\n",
    "def set_region(row):\n",
    "    geo_data = {'Центр': ['москва', 'тула', 'ярославль'],'Северо-Запад': ['петербург', 'псков', 'мурманск'],'Дальний Восток': ['владивосток', 'сахалин', 'хабаровск']}\n",
    "    \n",
    "    for key,value in geo_data.items():\n",
    "        for m in value:\n",
    "            if m in row.keyword: return key\n",
    "    return 'Undefined'        "
   ]
  },
  {
   "cell_type": "code",
   "execution_count": null,
   "metadata": {},
   "outputs": [],
   "source": [
    "# Проверяем работу функции\n",
    "df1 = pd.DataFrame({'keyword': ['вк', 'москва','псков'], 'shows': [163, 130, 97]})\n"
   ]
  },
  {
   "cell_type": "code",
   "execution_count": null,
   "metadata": {},
   "outputs": [],
   "source": [
    "df1['region'] = df1.apply(set_region, axis=1)\n",
    "df1.head()"
   ]
  },
  {
   "cell_type": "code",
   "execution_count": 29,
   "metadata": {},
   "outputs": [],
   "source": [
    "# Заполняем регион в датафрейме\n",
    "df['region'] = df.apply(set_region, axis=1)\n"
   ]
  },
  {
   "cell_type": "code",
   "execution_count": 30,
   "metadata": {},
   "outputs": [
    {
     "data": {
      "text/html": [
       "<div>\n",
       "<style scoped>\n",
       "    .dataframe tbody tr th:only-of-type {\n",
       "        vertical-align: middle;\n",
       "    }\n",
       "\n",
       "    .dataframe tbody tr th {\n",
       "        vertical-align: top;\n",
       "    }\n",
       "\n",
       "    .dataframe thead th {\n",
       "        text-align: right;\n",
       "    }\n",
       "</style>\n",
       "<table border=\"1\" class=\"dataframe\">\n",
       "  <thead>\n",
       "    <tr style=\"text-align: right;\">\n",
       "      <th></th>\n",
       "      <th>keyword</th>\n",
       "      <th>shows</th>\n",
       "      <th>region</th>\n",
       "    </tr>\n",
       "  </thead>\n",
       "  <tbody>\n",
       "    <tr>\n",
       "      <th>127</th>\n",
       "      <td>авито москва</td>\n",
       "      <td>979292</td>\n",
       "      <td>Центр</td>\n",
       "    </tr>\n",
       "    <tr>\n",
       "      <th>370</th>\n",
       "      <td>авито ру санкт петербург</td>\n",
       "      <td>425134</td>\n",
       "      <td>Северо-Запад</td>\n",
       "    </tr>\n",
       "    <tr>\n",
       "      <th>564</th>\n",
       "      <td>погода в санкт петербурге</td>\n",
       "      <td>292489</td>\n",
       "      <td>Северо-Запад</td>\n",
       "    </tr>\n",
       "    <tr>\n",
       "      <th>849</th>\n",
       "      <td>авито ярославль</td>\n",
       "      <td>209581</td>\n",
       "      <td>Центр</td>\n",
       "    </tr>\n",
       "    <tr>\n",
       "      <th>1063</th>\n",
       "      <td>фарпост владивосток</td>\n",
       "      <td>176951</td>\n",
       "      <td>Дальний Восток</td>\n",
       "    </tr>\n",
       "  </tbody>\n",
       "</table>\n",
       "</div>"
      ],
      "text/plain": [
       "                        keyword   shows          region\n",
       "127                авито москва  979292           Центр\n",
       "370    авито ру санкт петербург  425134    Северо-Запад\n",
       "564   погода в санкт петербурге  292489    Северо-Запад\n",
       "849             авито ярославль  209581           Центр\n",
       "1063        фарпост владивосток  176951  Дальний Восток"
      ]
     },
     "execution_count": 30,
     "metadata": {},
     "output_type": "execute_result"
    }
   ],
   "source": [
    "df[( df.region != 'Undefined')].head()"
   ]
  },
  {
   "cell_type": "code",
   "execution_count": null,
   "metadata": {},
   "outputs": [],
   "source": [
    "\n"
   ]
  },
  {
   "cell_type": "code",
   "execution_count": null,
   "metadata": {},
   "outputs": [],
   "source": []
  }
 ],
 "metadata": {
  "kernelspec": {
   "display_name": "Python 3",
   "language": "python",
   "name": "python3"
  },
  "language_info": {
   "codemirror_mode": {
    "name": "ipython",
    "version": 3
   },
   "file_extension": ".py",
   "mimetype": "text/x-python",
   "name": "python",
   "nbconvert_exporter": "python",
   "pygments_lexer": "ipython3",
   "version": "3.7.3"
  }
 },
 "nbformat": 4,
 "nbformat_minor": 2
}
