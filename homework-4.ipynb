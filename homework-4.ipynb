{
 "cells": [
  {
   "cell_type": "markdown",
   "metadata": {},
   "source": [
    "### Задание 1"
   ]
  },
  {
   "cell_type": "markdown",
   "metadata": {},
   "source": [
    "Придумайте функции со следующими свойствами (в a) b) c) область определения X любая, какая вам удобна, главное - функция с нужными свойствами):\n",
    "\n",
    "a) бесконечное количество локальных экстремумов\n",
    "y = sinx\n",
    "\n",
    "b) 2 локальных экстремума\n",
    "y = x**5 - 5x\n",
    "\n",
    "с) 3 локальных экстремума\n",
    " y=х**4+5х**3-10х\n",
    "\n",
    "d*) область определения функции - 1 точка\n",
    "У = √-х²"
   ]
  },
  {
   "cell_type": "markdown",
   "metadata": {},
   "source": [
    "### Задание 2:"
   ]
  },
  {
   "cell_type": "markdown",
   "metadata": {},
   "source": [
    "Посчитайте 1-ую и 2-ую производные следующих функций (на бумажке:)):\n",
    "\n",
    "a) $f(x) = sin^2(2x+1)$\n",
    "\n",
    "$f(x)` = 2sin(2x+1)cos(2x+1)2$\n",
    "$f(x)`` = 8cos^2(2x+1)-8sin^2(2x+1)=8cos(4x+2)$\n",
    "\n",
    "b) $f(x) = ln(x^3+2sin(x))$ (выражение второй производной упрощать не нужно)\n",
    "$f(x)` = 3x^2+2cos(x) / (x^3+2sin(x))$\n",
    "\n",
    "$f(x)` = (6x-2sin(x))*(x^3+2sin(x)) - (3x^2+2cos(x))^2 / (x^3+2sin(x))^2$"
   ]
  },
  {
   "cell_type": "markdown",
   "metadata": {},
   "source": [
    "### Задание 3:"
   ]
  },
  {
   "cell_type": "markdown",
   "metadata": {},
   "source": [
    "Используя numpy, посчитайте значение 3-ей и 4-ой производных функций в точке:\n",
    "\n",
    "$f(x) = x^5+4sin(2x)+cos(3x+3)$ в точке $x=1$\n"
   ]
  },
  {
   "cell_type": "code",
   "execution_count": 30,
   "metadata": {},
   "outputs": [
    {
     "data": {
      "text/plain": [
       "-3.189948305504231"
      ]
     },
     "execution_count": 30,
     "metadata": {},
     "output_type": "execute_result"
    }
   ],
   "source": [
    "import math\n",
    "from scipy.misc import derivative\n",
    "def f(x):\n",
    "    return x**5 + 4*math.sin(2*x) + math.cos(3*x+3)\n",
    "derivative(f, 1, dx=1e-6,n=2,order=5)"
   ]
  },
  {
   "cell_type": "code",
   "execution_count": 33,
   "metadata": {},
   "outputs": [
    {
     "data": {
      "text/plain": [
       "-888178419.7001253"
      ]
     },
     "execution_count": 33,
     "metadata": {},
     "output_type": "execute_result"
    }
   ],
   "source": [
    "derivative(f, 1, dx=1e-6,n=4,order=5)"
   ]
  },
  {
   "cell_type": "code",
   "execution_count": null,
   "metadata": {},
   "outputs": [],
   "source": []
  }
 ],
 "metadata": {
  "kernelspec": {
   "display_name": "Python 3",
   "language": "python",
   "name": "python3"
  },
  "language_info": {
   "codemirror_mode": {
    "name": "ipython",
    "version": 3
   },
   "file_extension": ".py",
   "mimetype": "text/x-python",
   "name": "python",
   "nbconvert_exporter": "python",
   "pygments_lexer": "ipython3",
   "version": "3.7.3"
  }
 },
 "nbformat": 4,
 "nbformat_minor": 2
}
