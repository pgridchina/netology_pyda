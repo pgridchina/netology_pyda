{
 "cells": [
  {
   "cell_type": "code",
   "execution_count": 12,
   "metadata": {},
   "outputs": [],
   "source": [
    "import numpy as np\n",
    "from scipy.optimize import approx_fprime"
   ]
  },
  {
   "cell_type": "markdown",
   "metadata": {},
   "source": [
    "### Задание 1: \n",
    "Посчитайте частные производные функций в точках\n",
    "(как обычно, необходимо решение на бумажке или в LaTeX и на numpy):"
   ]
  },
  {
   "cell_type": "markdown",
   "metadata": {},
   "source": [
    "1) $f(x,y)=2x^2y^3 + 1/x + y^2x + 7$ в точке $(1,2)$\n",
    "\n",
    "$f'_x=4xy^3 + 1/x^2 + y^2$ = 35\n",
    "\n",
    "$f'_Y=6x^2y^2 + 2yx$ = 28\n",
    "\n",
    "\n",
    "\n",
    "2) $f(x,y)=x^2y - sin(xy) + cos(x^2) + 6y$\n",
    "\n",
    "$f'_x=2xy - ycos(xy) - 2xsin(x^2)$\n",
    "\n",
    "$f'_y=x^2 - xcos(xy) +6$"
   ]
  },
  {
   "cell_type": "code",
   "execution_count": 1,
   "metadata": {},
   "outputs": [],
   "source": [
    "import matplotlib.pyplot as plt\n",
    "import numpy as np"
   ]
  },
  {
   "cell_type": "code",
   "execution_count": 85,
   "metadata": {},
   "outputs": [],
   "source": [
    "def func(x):\n",
    "   \n",
    "    return  2*x[0]**2 * x[1]**3 + 1/x[0] + x[1]**2*x[0] + 7"
   ]
  },
  {
   "cell_type": "code",
   "execution_count": 86,
   "metadata": {},
   "outputs": [
    {
     "data": {
      "text/plain": [
       "array([35.00000024, 28.00000024])"
      ]
     },
     "execution_count": 86,
     "metadata": {},
     "output_type": "execute_result"
    }
   ],
   "source": [
    "\n",
    "x = [1,2]\n",
    "eps = np.sqrt(np.finfo(float).eps)\n",
    "approx_fprime(x, func, [eps, eps])"
   ]
  },
  {
   "cell_type": "markdown",
   "metadata": {},
   "source": [
    "### Задание 2:\n",
    "\n",
    "Градиентный спуск своими руками"
   ]
  },
  {
   "cell_type": "code",
   "execution_count": 36,
   "metadata": {},
   "outputs": [],
   "source": [
    "def f(x):\n",
    "    return (x[0]**2) + (x[1]**2) "
   ]
  },
  {
   "cell_type": "code",
   "execution_count": 70,
   "metadata": {},
   "outputs": [],
   "source": [
    "x = np.array([100, 200])\n",
    "lr = 0.1"
   ]
  },
  {
   "cell_type": "code",
   "execution_count": 95,
   "metadata": {},
   "outputs": [],
   "source": [
    "x = np.array([100, 200])\n",
    "for i in range(1000):\n",
    "    \n",
    "    # Calculate gradient\n",
    "    grad = approx_fprime(x, f, lr) # Your code here (функция для вычисления градиента есть в лекционном ноутбуке)\n",
    "    #print(grad,np.gradient(x))  # Это для себя посмотреть что происходит\n",
    "    # Update x with gradient\n",
    "    x = x - lr * grad    \n"
   ]
  },
  {
   "cell_type": "code",
   "execution_count": 90,
   "metadata": {},
   "outputs": [
    {
     "name": "stdout",
     "output_type": "stream",
     "text": [
      "Минимум достигается в:  [-0.00499983 -0.00499966]\n",
      "Значение функции в минимуме:  4.9994951071259084e-05\n"
     ]
    }
   ],
   "source": [
    "print(\"Минимум достигается в: \", x)\n",
    "print(\"Значение функции в минимуме: \", f(x))"
   ]
  },
  {
   "cell_type": "markdown",
   "metadata": {},
   "source": [
    "Проверка с помощью встроенной функции numpy: "
   ]
  },
  {
   "cell_type": "code",
   "execution_count": 91,
   "metadata": {},
   "outputs": [
    {
     "name": "stdout",
     "output_type": "stream",
     "text": [
      "[1.68296736e-07 1.68296736e-07]\n"
     ]
    }
   ],
   "source": [
    "grad = np.gradient(x)\n",
    "print(grad)"
   ]
  },
  {
   "cell_type": "code",
   "execution_count": 94,
   "metadata": {},
   "outputs": [
    {
     "name": "stdout",
     "output_type": "stream",
     "text": [
      "Optimization terminated successfully.\n",
      "         Current function value: 0.000000\n",
      "         Iterations: 72\n",
      "         Function evaluations: 138\n"
     ]
    }
   ],
   "source": [
    "from scipy.optimize import minimize\n",
    "\n",
    "x = np.array([100, 200])\n",
    "res = minimize(f, x, method='nelder-mead', options={'xtol': 1e-6, 'disp': True})"
   ]
  },
  {
   "cell_type": "code",
   "execution_count": null,
   "metadata": {},
   "outputs": [],
   "source": []
  }
 ],
 "metadata": {
  "kernelspec": {
   "display_name": "Python 3",
   "language": "python",
   "name": "python3"
  },
  "language_info": {
   "codemirror_mode": {
    "name": "ipython",
    "version": 3
   },
   "file_extension": ".py",
   "mimetype": "text/x-python",
   "name": "python",
   "nbconvert_exporter": "python",
   "pygments_lexer": "ipython3",
   "version": "3.7.3"
  }
 },
 "nbformat": 4,
 "nbformat_minor": 2
}
