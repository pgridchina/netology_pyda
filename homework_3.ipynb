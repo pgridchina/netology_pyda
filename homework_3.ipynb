{
 "cells": [
  {
   "cell_type": "code",
   "execution_count": 2,
   "metadata": {},
   "outputs": [
    {
     "data": {
      "text/plain": [
       "'yandex'"
      ]
     },
     "execution_count": 2,
     "metadata": {},
     "output_type": "execute_result"
    }
   ],
   "source": [
    "# Задание 1\n",
    "stats = {\"facebook\": 55, \"yandex\": 120, \"vk\": 115, \"google\": 99, \"email\": 42, \"ok\": 98}\n",
    "max_key = max(stats, key=lambda k: stats[k]) \n",
    "max_key"
   ]
  },
  {
   "cell_type": "code",
   "execution_count": 3,
   "metadata": {},
   "outputs": [
    {
     "data": {
      "text/plain": [
       "[5, 1, 1]"
      ]
     },
     "execution_count": 3,
     "metadata": {},
     "output_type": "execute_result"
    }
   ],
   "source": [
    "# Задание 2. Вариант1\n",
    "descriptions = [\n",
    "[\"браслет\", \"xiaomi\", \"mi\", \"band\", \"2.\", \"умный\", \"браслет\", \"xiaomi\", \"mi\", \"лидер\", \"в\", \"линейке\", \"xiaomi.\", \"фитнес\", \"браслет\", \"для\", \"android\", \"4.4,\", \"ios\", \"7,\", \"экран\", \"oled.\", \"лучший\", \"выбор\", \"xiaomi\"],\n",
    "[\"браслет\", \"huawei\", \"honor\", \"band\", \"3.\", \"фитнес\", \"браслет\", \"влагозащищенный\", \"сенсорный\", \"экран\", \"android,\", \"ios\", \"мониторинг\", \"сна\"],\n",
    "[\"браслет\", \"samsung\", \"gear\", \"fit2\", \"pro.\", \"влагозащищенный\", \"сенсорный\", \"amoled-экран\", \"мониторинг\", \"сна,\", \"калорий,\", \"новинка\", \"samsung\"],\n",
    "]\n",
    "[(len(x) - len(set(x))) for x in descriptions]\n"
   ]
  },
  {
   "cell_type": "code",
   "execution_count": 5,
   "metadata": {},
   "outputs": [
    {
     "name": "stdout",
     "output_type": "stream",
     "text": [
      "5\n",
      "1\n",
      "1\n"
     ]
    }
   ],
   "source": [
    "# Задание 2. Вариант2\n",
    "descriptions = [\n",
    "[\"браслет\", \"xiaomi\", \"mi\", \"band\", \"2.\", \"умный\", \"браслет\", \"xiaomi\", \"mi\", \"лидер\", \"в\", \"линейке\", \"xiaomi.\", \"фитнес\", \"браслет\", \"для\", \"android\", \"4.4,\", \"ios\", \"7,\", \"экран\", \"oled.\", \"лучший\", \"выбор\", \"xiaomi\"],\n",
    "[\"браслет\", \"huawei\", \"honor\", \"band\", \"3.\", \"фитнес\", \"браслет\", \"влагозащищенный\", \"сенсорный\", \"экран\", \"android,\", \"ios\", \"мониторинг\", \"сна\"],\n",
    "[\"браслет\", \"samsung\", \"gear\", \"fit2\", \"pro.\", \"влагозащищенный\", \"сенсорный\", \"amoled-экран\", \"мониторинг\", \"сна,\", \"калорий,\", \"новинка\", \"samsung\"],\n",
    "]\n",
    "for x in descriptions:\n",
    "    print (len(x) - len(set(x)))"
   ]
  },
  {
   "cell_type": "code",
   "execution_count": 10,
   "metadata": {},
   "outputs": [
    {
     "name": "stdout",
     "output_type": "stream",
     "text": [
      "('14', '26376') 13301\n"
     ]
    }
   ],
   "source": [
    "# Задание 3\n",
    "stats_dict = {}\n",
    "n = 2\n",
    "with open('E:\\\\Netology\\\\Doc\\\\stats2.csv') as f:\n",
    "    for line in f:\n",
    "        line = line.strip().split(',')\n",
    "        stats_dict[tuple(line[:n])] = line[3]  #здесь вот зависит от того, что хотим в справочник в значение положить\n",
    "for key, value in stats_dict.items():\n",
    "    print(key, value)\n",
    "    break\n",
    "            "
   ]
  },
  {
   "cell_type": "code",
   "execution_count": null,
   "metadata": {},
   "outputs": [],
   "source": []
  }
 ],
 "metadata": {
  "kernelspec": {
   "display_name": "Python 3",
   "language": "python",
   "name": "python3"
  },
  "language_info": {
   "codemirror_mode": {
    "name": "ipython",
    "version": 3
   },
   "file_extension": ".py",
   "mimetype": "text/x-python",
   "name": "python",
   "nbconvert_exporter": "python",
   "pygments_lexer": "ipython3",
   "version": "3.7.3"
  }
 },
 "nbformat": 4,
 "nbformat_minor": 2
}
