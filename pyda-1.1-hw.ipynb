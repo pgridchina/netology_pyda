{
 "cells": [
  {
   "cell_type": "markdown",
   "metadata": {},
   "source": [
    "**Задание 1**. Даны 2 строки: *long_phrase* и *short_phrase*. \n",
    "Напишите код, который проверяет действительно ли длинная фраза *long_phrase* длиннее короткой *short_phrase*. И выводит *True* или *False* в зависимости от результата сравнения."
   ]
  },
  {
   "cell_type": "code",
   "execution_count": 17,
   "metadata": {},
   "outputs": [],
   "source": [
    "long_phrase = 'Насколько проще было бы писать программы, если бы не заказчики'\n",
    "short_phrase = '640Кб должно хватить для любых задач. Билл Гейтс (по легенде)'\n"
   ]
  },
  {
   "cell_type": "code",
   "execution_count": 18,
   "metadata": {},
   "outputs": [
    {
     "name": "stdout",
     "output_type": "stream",
     "text": [
      "True\n"
     ]
    }
   ],
   "source": [
    "if len(long_phrase) > len(short_phrase): print(\"True\") \n",
    "else:\n",
    "    print(\"False\")"
   ]
  },
  {
   "cell_type": "markdown",
   "metadata": {},
   "source": [
    "**Задание 2**. Дано значение объема файла в байтах. Напишите перевод этого значения в мегабайты в формате: \"*Объем файла равен 213.68Mb*\""
   ]
  },
  {
   "cell_type": "code",
   "execution_count": 28,
   "metadata": {},
   "outputs": [
    {
     "name": "stdout",
     "output_type": "stream",
     "text": [
      "Введите объем456789\n",
      "Объем  файла равен  446.0830078125 Mb\n"
     ]
    }
   ],
   "source": [
    "v = 1024\n",
    "vm = .1\n",
    "v = int(input('Введите объем'))\n",
    "vm = v / 1024 \n",
    "print('Объем  файла равен ', vm,'Mb')"
   ]
  },
  {
   "cell_type": "markdown",
   "metadata": {},
   "source": [
    "**Задание 3**. Разработать приложение для определения знака зодиака по дате рождения. Пример:\n",
    "\n",
    "Введите месяц: март\n",
    "\n",
    "Введите число: 6\n",
    "\n",
    "Вывод:\n",
    "Рыбы"
   ]
  },
  {
   "cell_type": "code",
   "execution_count": 14,
   "metadata": {},
   "outputs": [
    {
     "name": "stdout",
     "output_type": "stream",
     "text": [
      "Введите месяц рожденияНоябрь\n",
      "Введите число11\n",
      "Скорпион\n"
     ]
    }
   ],
   "source": [
    "m = input('Введите месяц рождения')\n",
    "d = int(input('Введите число'))\n",
    "if m == 'Январь':\n",
    "    if d <= 19:  print(\"Козерог\")\n",
    "    else: print(\"Водолей\")\n",
    "elif m == 'Февраль':\n",
    "    if d <= 20: print(\"Водолей\")\n",
    "    else: print(\"Рыбы\")\n",
    "elif m == 'Март':\n",
    "    if d <= 20: print(\"Рыбы\")\n",
    "    else: print(\"Овен\")\n",
    "elif m == 'Апрель':\n",
    "    if d <= 20: print(\"Овен\")\n",
    "    else: print(\"Телец\")\n",
    "elif m == 'Май':\n",
    "    if d <= 20: print(\"Телец\")\n",
    "    else: print(\"Близнецы\")\n",
    "elif m == 'Июнь':\n",
    "    if d <= 20: print(\"Близнецы\")\n",
    "    else: print(\"Рак\")\n",
    "elif m == 'Июль':\n",
    "    if d <= 20: print(\"Рак\")\n",
    "    else: print(\"Лев\")\n",
    "elif m == 'Август':\n",
    "    if d <= 20: print(\"Лев\")\n",
    "    else: print(\"Дева\")\n",
    "elif m == 'Сентярь':\n",
    "    if d <= 20: print(\"Дева\")\n",
    "    else: print(\"Весы\")\n",
    "elif m == 'Октябрь':\n",
    "    if d <= 20: print(\"Весы\")\n",
    "    else: print(\"Скорпион\")\n",
    "elif m == 'Ноябрь':\n",
    "    if d <= 22: print(\"Скорпион\")\n",
    "    else: print(\"Стрелец\")\n",
    "elif m == 'Декабрь':\n",
    "    if d <= 22: print(\"Стрелец\")\n",
    "    else: print(\"Козерог\")\n",
    "        "
   ]
  },
  {
   "cell_type": "markdown",
   "metadata": {},
   "source": [
    "**Задание 4**. Нужно разработать приложение для финансового планирования.\n",
    "Приложение учитывает сколько уходит на ипотеку, \"на жизнь\" и сколько нужно отложить на пенсию.\n",
    "Пользователь вводит:\n",
    "- заработанную плату в месяц.\n",
    "- сколько процентов от ЗП уходит на ипотеку.\n",
    "- сколько процентов от ЗП уходит \"на жизнь\".\n",
    "- сколько раз приходит премия в год.\n",
    "\n",
    "Остальная часть заработанной платы откладывается на пенсию.\n",
    "\n",
    "Также пользователю приходит премия в размере зарплаты, от которой половина уходит на отпуск, а вторая половина откладывается.\n",
    "\n",
    "Программа должна учитывать сколько премий было в год.\n",
    "\n",
    "Нужно вывести сколько денег тратит пользователь на ипотеку и сколько он накопит за год.\n",
    "\n",
    "Пример:\n",
    "\n",
    "Введите заработанную плату в месяц: 100000\n",
    "\n",
    "Введите сколько процентов уходит на ипотеку: 30\n",
    "\n",
    "Введите сколько процентов уходит на жизнь: 50\n",
    "\n",
    "Введите количество премий за год: 2\n",
    "\n",
    "Вывод:\n",
    "На ипотеку было потрачено: 360000 рублей\n",
    "Было накоплено: 340000 рублей"
   ]
  },
  {
   "cell_type": "code",
   "execution_count": 45,
   "metadata": {},
   "outputs": [
    {
     "name": "stdout",
     "output_type": "stream",
     "text": [
      "Введите заработную плату в месяц100000\n",
      "Введите сколько процентов уходит на ипотеку30\n",
      "Введите сколько процентов уходит на жизнь50\n",
      "Введите количество премий в год2\n",
      "Ипотека: 360000.0 Накопления: 340000.0\n"
     ]
    }
   ],
   "source": [
    "pc_main = 1\n",
    "\n",
    "month_salary = int(input('Введите заработную плату в месяц'))\n",
    "pc_mortgage = int(input('Введите сколько процентов уходит на ипотеку'))\n",
    "pc_main = int(input('Введите сколько процентов уходит на жизнь'))\n",
    "bonus_qnty = int(input('Введите количество премий в год'))\n",
    "year_salary = month_salary * 12\n",
    "savings = year_salary - (year_salary * pc_mortgage / 100) - (year_salary * pc_main / 100) + (month_salary * bonus_qnty / 2)\n",
    "sum_mortgage = (year_salary * pc_mortgage / 100)\n",
    "print('Ипотека:',sum_mortgage, 'Накопления:', savings)"
   ]
  },
  {
   "cell_type": "code",
   "execution_count": null,
   "metadata": {},
   "outputs": [],
   "source": []
  },
  {
   "cell_type": "code",
   "execution_count": null,
   "metadata": {},
   "outputs": [],
   "source": []
  }
 ],
 "metadata": {
  "kernelspec": {
   "display_name": "Python 3",
   "language": "python",
   "name": "python3"
  },
  "language_info": {
   "codemirror_mode": {
    "name": "ipython",
    "version": 3
   },
   "file_extension": ".py",
   "mimetype": "text/x-python",
   "name": "python",
   "nbconvert_exporter": "python",
   "pygments_lexer": "ipython3",
   "version": "3.7.3"
  }
 },
 "nbformat": 4,
 "nbformat_minor": 2
}
