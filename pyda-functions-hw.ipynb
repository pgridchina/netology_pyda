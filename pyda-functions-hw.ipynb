{
 "cells": [
  {
   "cell_type": "markdown",
   "metadata": {},
   "source": [
    "# Задание к лекции \"Функции\".\n",
    "Для зачета необходимо правильно выполнить 4 заданий из 6.  \n",
    "Для зачета с отличием – все 6."
   ]
  },
  {
   "cell_type": "markdown",
   "metadata": {},
   "source": [
    "## Задание 1"
   ]
  },
  {
   "cell_type": "markdown",
   "metadata": {},
   "source": [
    "Дан список вида:"
   ]
  },
  {
   "cell_type": "code",
   "execution_count": 4,
   "metadata": {},
   "outputs": [
    {
     "name": "stdout",
     "output_type": "stream",
     "text": [
      "103\n"
     ]
    }
   ],
   "source": [
    "data = [\n",
    "    [13, 25, 23, 34],\n",
    "    [45, 32, 44, 47],\n",
    "    [12, 33, 23, 95],\n",
    "    [13, 53, 34, 35]\n",
    "]\n",
    "def f_sum(list_):\n",
    "    i = 0\n",
    "    v_sum = 0\n",
    "    for x in list_:\n",
    "        v_sum += x[i]\n",
    "        i += 1\n",
    "    return v_sum\n",
    "print(f_sum(data))"
   ]
  },
  {
   "cell_type": "markdown",
   "metadata": {},
   "source": [
    "Напишите функцию, которая возвращает сумму элементов на диагонали. Т. е. 13+32+23+35.  \n",
    "Список может быть любой длины, но всегда является \"квадратным\" (количество элементов во вложенных списках равно их количеству)."
   ]
  },
  {
   "cell_type": "markdown",
   "metadata": {},
   "source": [
    "## Задание 2"
   ]
  },
  {
   "cell_type": "markdown",
   "metadata": {},
   "source": [
    "Напишите функцию, возвращающую сумму первых n чисел Фибоначчи (для этого вам может понадобится ознакомиться с рекурсией)."
   ]
  },
  {
   "cell_type": "code",
   "execution_count": 4,
   "metadata": {},
   "outputs": [
    {
     "name": "stdout",
     "output_type": "stream",
     "text": [
      "20\n"
     ]
    }
   ],
   "source": [
    "\n",
    "def sum_fib(n):\n",
    "    return f_fib(n+2) - 1\n",
    "\n",
    "def f_fib(n):\n",
    "    if n == 1 or n == 2 :\n",
    "        return 1\n",
    "    return f_fib(n-1) + f_fib(n-2)\n",
    "    \n",
    "    \n",
    "print(sum_fib(6))\n",
    "\n",
    "\n"
   ]
  },
  {
   "cell_type": "markdown",
   "metadata": {},
   "source": [
    "Задание 3"
   ]
  },
  {
   "cell_type": "code",
   "execution_count": 21,
   "metadata": {},
   "outputs": [
    {
     "name": "stdout",
     "output_type": "stream",
     "text": [
      "[{'ingridient_name': 'сыр', 'quantity': 20, 'measure': 'гр'}, {'ingridient_name': 'колбаса', 'quantity': 30, 'measure': 'гр'}, {'ingridient_name': 'бекон', 'quantity': 30, 'measure': 'гр'}, {'ingridient_name': 'оливки', 'quantity': 10, 'measure': 'гр'}, {'ingridient_name': 'томаты', 'quantity': 20, 'measure': 'гр'}, {'ingridient_name': 'тесто', 'quantity': 100, 'measure': 'гр'}]\n"
     ]
    },
    {
     "data": {
      "text/plain": [
       "{'ingridient_name': 'бекон', 'quantity': 30, 'measure': 'гр'}"
      ]
     },
     "execution_count": 21,
     "metadata": {},
     "output_type": "execute_result"
    }
   ],
   "source": [
    "cook_book = {\n",
    "  'салат': [\n",
    "     {'ingridient_name': 'сыр', 'quantity': 50, 'measure': 'гр'},\n",
    "     {'ingridient_name': 'томаты', 'quantity': 20, 'measure': 'гр'},\n",
    "     {'ingridient_name': 'огурцы', 'quantity': 20, 'measure': 'гр'},\n",
    "     {'ingridient_name': 'маслины', 'quantity': 10, 'measure': 'гр'},\n",
    "     {'ingridient_name': 'оливковое масло', 'quantity': 20, 'measure': 'мл'},\n",
    "     {'ingridient_name': 'салат', 'quantity': 10, 'measure': 'гр'},\n",
    "     {'ingridient_name': 'перец', 'quantity': 20, 'measure': 'гр'}\n",
    "    ],\n",
    "  'пицца': [\n",
    "     {'ingridient_name': 'сыр', 'quantity': 20, 'measure': 'гр'},\n",
    "     {'ingridient_name': 'колбаса', 'quantity': 30, 'measure': 'гр'},\n",
    "     {'ingridient_name': 'бекон', 'quantity': 30, 'measure': 'гр'},\n",
    "     {'ingridient_name': 'оливки', 'quantity': 10, 'measure': 'гр'},\n",
    "     {'ingridient_name': 'томаты', 'quantity': 20, 'measure': 'гр'},\n",
    "     {'ingridient_name': 'тесто', 'quantity': 100, 'measure': 'гр'},   \n",
    "    ],\n",
    "  'лимонад': [\n",
    "     {'ingridient_name': 'лимон', 'quantity': 1, 'measure': 'шт'},\n",
    "     {'ingridient_name': 'вода', 'quantity': 200, 'measure': 'мл'},\n",
    "     {'ingridient_name': 'сахар', 'quantity': 10, 'measure': 'гр'},\n",
    "     {'ingridient_name': 'лайм', 'quantity': 20, 'measure': 'гр'},    \n",
    "    ]\n",
    "}\n",
    "print (cook_book['пицца'])\n",
    "cook_book['пицца'][2]\n"
   ]
  },
  {
   "cell_type": "markdown",
   "metadata": {},
   "source": [
    "Напишите программу (она может состоять из нескольких функций), которая будет запрашивать у пользователя количество гостей и список блюд, которые будут подаваться каждому гостю. В результате программа должна выдавать список покупок, состоящий из ингредиентов, которые нужно купить в магазине (если ингредиенты повторяются, то их нужно записать одной строкой, а не отдельно).\n",
    "\n",
    "Пример:\n",
    "\n",
    "вызов\\_главной\\_функций()\n",
    "\n",
    "Введите количество гостей: 3  \n",
    "Введите блюда через пробел: пицца пицца лимонад\n",
    "\n",
    "Список покупок:  \n",
    "сыр 120 гр  \n",
    "колбаса 180 гр  \n",
    "бекон 180 гр  \n",
    "оливки 60 гр  \n",
    "томаты 120 гр  \n",
    "тесто 600 гр  \n",
    "лимон 3 шт  \n",
    "вода 600 мл  \n",
    "сахар 30 гр  \n",
    "лайм 60 гр  "
   ]
  },
  {
   "cell_type": "code",
   "execution_count": 49,
   "metadata": {},
   "outputs": [
    {
     "name": "stdout",
     "output_type": "stream",
     "text": [
      "Введите количество гостей2\n",
      "Введите блюда через пробелсалат\n",
      "салат\n",
      "{'сыр': 100}\n",
      "{'сыр': 100, 'томаты': 40}\n",
      "{'сыр': 100, 'томаты': 40, 'огурцы': 40}\n",
      "{'сыр': 100, 'томаты': 40, 'огурцы': 40, 'маслины': 20}\n",
      "{'сыр': 100, 'томаты': 40, 'огурцы': 40, 'маслины': 20, 'оливковое масло': 40}\n",
      "{'сыр': 100, 'томаты': 40, 'огурцы': 40, 'маслины': 20, 'оливковое масло': 40, 'салат': 20}\n",
      "{'сыр': 100, 'томаты': 40, 'огурцы': 40, 'маслины': 20, 'оливковое масло': 40, 'салат': 20, 'перец': 40}\n",
      "Список покупок\n",
      "сыр  : 100\n",
      "томаты  : 40\n",
      "огурцы  : 40\n",
      "маслины  : 20\n",
      "оливковое масло  : 40\n",
      "салат  : 20\n",
      "перец  : 40\n",
      "('сыр', 100)\n",
      "('томаты', 40)\n",
      "('огурцы', 40)\n",
      "('маслины', 20)\n",
      "('оливковое масло', 40)\n",
      "('салат', 20)\n",
      "('перец', 40)\n"
     ]
    }
   ],
   "source": [
    "def main_block():\n",
    "    ing_fulllist = []\n",
    "    dishes = []\n",
    "    qnty_guest = int(input('Введите количество гостей') )\n",
    "    dishes = input('Введите блюда через пробел')\n",
    "    dishes = dishes.split(' ')\n",
    "    for m in dishes:\n",
    "        print(m)\n",
    "        count_ingr(cook_book[m],qnty_guest)\n",
    "\n",
    "list_ingr = {}    \n",
    "def count_ingr( list, qnty ):\n",
    "    global list_ingr\n",
    "    for m in list:\n",
    "      #  print(m['ingridient_name'])\n",
    "        list_ingr.setdefault(m['ingridient_name'],0)\n",
    "    \n",
    "        list_ingr[m['ingridient_name']] += qnty * m['quantity']\n",
    "         \n",
    "main_block()\n",
    "print(\"Список покупок\")\n",
    "for key,value in  list_ingr.items():\n",
    "    print(key,' :', value) \n",
    "\n",
    "    "
   ]
  },
  {
   "cell_type": "code",
   "execution_count": null,
   "metadata": {},
   "outputs": [],
   "source": []
  },
  {
   "cell_type": "markdown",
   "metadata": {},
   "source": [
    "Задание 4"
   ]
  },
  {
   "cell_type": "code",
   "execution_count": null,
   "metadata": {},
   "outputs": [],
   "source": []
  },
  {
   "cell_type": "markdown",
   "metadata": {},
   "source": [
    "Вы работаете секретарем и вам постоянно приходят различные документы. Вы должны быть очень внимательны, чтобы не потерять ни один документ. Каталог документов хранится в следующем виде:"
   ]
  },
  {
   "cell_type": "code",
   "execution_count": 24,
   "metadata": {},
   "outputs": [],
   "source": [
    "documents = [\n",
    "    {'type': 'passport', 'number': '2207 876234', 'name': 'Василий Гупкин'},\n",
    "    {'type': 'invoice', 'number': '11-2', 'name': 'Геннадий Покемонов'},\n",
    "    {'type': 'insurance', 'number': '10006', 'name': 'Аристарх Павлов'}\n",
    "]"
   ]
  },
  {
   "cell_type": "markdown",
   "metadata": {},
   "source": [
    "Перечень полок, на которых находятся документы хранится в следующем виде:"
   ]
  },
  {
   "cell_type": "code",
   "execution_count": 12,
   "metadata": {},
   "outputs": [],
   "source": [
    "directories = {\n",
    "    '1': ['2207 876234', '11-2', '5455 028765'],\n",
    "    '2': ['10006', '5400 028765', '5455 002299'],\n",
    "    '3': []\n",
    "}"
   ]
  },
  {
   "cell_type": "markdown",
   "metadata": {},
   "source": [
    "Необходимо реализовать пользовательские команды (внимание! это не название функций, которые должны быть выразительными, а команды, которые вводит пользователь, чтобы получить необходимый результат):\n",
    "  \n",
    "- p – people – команда, которая спросит номер документа и выведет имя человека, которому он принадлежит;  \n",
    "- s – shelf – команда, которая спросит номер документа и выведет номер полки, на которой он находится  \n",
    "Правильно обработайте ситуацию, когда пользователь будет вводить несуществующий документ."
   ]
  },
  {
   "cell_type": "code",
   "execution_count": 73,
   "metadata": {},
   "outputs": [
    {
     "name": "stdout",
     "output_type": "stream",
     "text": [
      "Введите командуs\n",
      "Введите номер документа10006\n",
      "['2']\n"
     ]
    }
   ],
   "source": [
    "\n",
    "def people():\n",
    "  \n",
    "    num_doc = input('Введите номер документа')\n",
    "    return [m['name'] for m in documents if m['number'] == num_doc]\n",
    "\n",
    "def shelf():\n",
    "    num_doc = input('Введите номер документа')\n",
    "    \n",
    "    return [key for key,value in directories.items() if num_doc in value]\n",
    "\n",
    "\n",
    "command = input('Введите команду')\n",
    "if command == 'p': print(people())\n",
    "if command == 's': print(shelf())"
   ]
  },
  {
   "cell_type": "code",
   "execution_count": null,
   "metadata": {},
   "outputs": [],
   "source": []
  },
  {
   "cell_type": "markdown",
   "metadata": {},
   "source": [
    "## Задание 5"
   ]
  },
  {
   "cell_type": "markdown",
   "metadata": {},
   "source": [
    "К условию из задания 5 реализуйте следующие команды:\n",
    "  \n",
    "- l – list – команда, которая выведет список всех документов в формате   \n",
    "**passport \"2207 876234\" \"Василий Гупкин\"**  \n",
    "- as – add shelf – команда, которая спросит номер новой полки и добавит ее в перечень"
   ]
  },
  {
   "cell_type": "code",
   "execution_count": 20,
   "metadata": {},
   "outputs": [
    {
     "name": "stdout",
     "output_type": "stream",
     "text": [
      "Введите командуas\n",
      "Введите номер новой полки5\n",
      "{'1': ['2207 876234', '11-2', '5455 028765'], '2': ['10006', '5400 028765', '5455 002299'], '3': [], '5': '[]'}\n"
     ]
    }
   ],
   "source": [
    "def list():\n",
    "    for m in documents:\n",
    "        print('\"{}\"'.format(m['type']),'\"{}\"'.format(m['number']),'\"{}\"'.format(m['name'])) \n",
    "\n",
    "def add_shelf():\n",
    "    new_sh = input('Введите номер новой полки')\n",
    "    if  new_sh in directories: print('Полка с таким номером уже существует')\n",
    "    else: directories[new_sh] = '[]'\n",
    "    print(directories)\n",
    "\n",
    "\n",
    "command = input('Введите команду')\n",
    "if command == 'l': list()\n",
    "if command == 'as': add_shelf()"
   ]
  },
  {
   "cell_type": "markdown",
   "metadata": {},
   "source": [
    "## Задание 6"
   ]
  },
  {
   "cell_type": "markdown",
   "metadata": {},
   "source": [
    "К условию из задания 5 реализуйте следующие команды:  \n",
    "  \n",
    "- d – delete – команда, которая спросит номер документа и удалит его из каталога и из перечня полок. Предусмотрите сценарий, когда пользователь вводит несуществующий документ;  \n",
    "- m – move – команда, которая спросит номер документа и целевую полку и переместит его с текущей полки на целевую. Корректно обработайте кейсы, когда пользователь пытается переместить несуществующий документ или переместить документ на несуществующую полку;  \n",
    "- a – add – команда, которая добавит новый документ в каталог и в перечень полок, спросив его номер, тип, имя владельца и номер полки, на котором он будет храниться."
   ]
  },
  {
   "cell_type": "code",
   "execution_count": 51,
   "metadata": {},
   "outputs": [
    {
     "name": "stdout",
     "output_type": "stream",
     "text": [
      "Введите командуa\n",
      "[{'type': 'passport', 'number': '2207 876234', 'name': 'Василий Гупкин'}, {'type': 'insurance', 'number': '10006', 'name': 'Аристарх Павлов'}, {'type': 'passp', 'number': '11-2', 'name': 'test'}]\n",
      "{'1': ['2207 876234', '11-2', '5455 028765'], '2': ['10006', '5400 028765', '5455 002299'], '3': []}\n",
      "Введите номер документа999\n",
      "Введите тип документаpassport\n",
      "Введите владельцп документаtest2\n",
      "Введите номер  полки3\n",
      "[{'type': 'passport', 'number': '2207 876234', 'name': 'Василий Гупкин'}, {'type': 'insurance', 'number': '10006', 'name': 'Аристарх Павлов'}, {'type': 'passp', 'number': '11-2', 'name': 'test'}, {'type': 'passport', 'number': '999', 'name': 'test2'}]\n",
      "{'1': ['2207 876234', '11-2', '5455 028765'], '2': ['10006', '5400 028765', '5455 002299'], '3': ['999']}\n"
     ]
    }
   ],
   "source": [
    "documents = [\n",
    "    {'type': 'passport', 'number': '2207 876234', 'name': 'Василий Гупкин'},\n",
    "    {'type': 'invoice', 'number': '11-2', 'name': 'Геннадий Покемонов'},\n",
    "    {'type': 'insurance', 'number': '10006', 'name': 'Аристарх Павлов'}\n",
    "]\n",
    "directories = {\n",
    "    '1': ['2207 876234', '11-2', '5455 028765'],\n",
    "    '2': ['10006', '5400 028765', '5455 002299'],\n",
    "    '3': []\n",
    "}\n",
    "def delete():\n",
    "    print(documents)\n",
    "    num_doc = input('Введите номер документа')\n",
    "    for m in documents:\n",
    "        if m['number'] == num_doc: \n",
    "            documents.remove(m) \n",
    "            print(documents)\n",
    "            return\n",
    "    print('Документа с указанным номером нет  в списке')\n",
    "    \n",
    "def move():\n",
    "    num_doc = input('Введите номер документа')\n",
    "    new_sh = input('Введите номер новой полки')\n",
    "    if not( new_sh in directories): \n",
    "        print('Полки с таким номером НЕ существует')\n",
    "        return\n",
    "    for key,value in directories.items():\n",
    "        if num_doc in value:\n",
    "            value.remove(num_doc)\n",
    "            directories[new_sh].append(num_doc)\n",
    "            print(directories)\n",
    "            return\n",
    "    print('Документа с указанным номером нет  в списке')\n",
    "def move2():\n",
    "    num_doc = input('Введите номер документа')\n",
    "    new_sh = input('Введите номер новой полки')\n",
    "    #if not( new_sh in directories): \n",
    "    #    print('Полки с таким номером НЕ существует')\n",
    "    #    return.\n",
    "    for key,value in directories.items():\n",
    "        if num_doc in value:\n",
    "            \n",
    "            try:\n",
    "                directories[new_sh].append(num_doc)\n",
    "                value.remove(num_doc)    \n",
    "            except: print('Полки с таким номером НЕ существует')\n",
    "            print(directories)\n",
    "            return\n",
    "    print('Документа с указанным номером нет  в списке')\n",
    "def add():\n",
    "    \n",
    "    d = {}\n",
    "    num_doc = input('Введите номер документа')\n",
    "    for m in documents:\n",
    "        if m['number'] == num_doc: \n",
    "            print('Документ с таким номером существует')\n",
    "            return\n",
    "    type_doc = input('Введите тип документа')\n",
    "    own_doc = input('Введите владельцп документа')\n",
    "    new_sh = input('Введите номер  полки')\n",
    "    if not( new_sh in directories): \n",
    "        print('Полки с таким номером НЕ существует')\n",
    "        return  \n",
    "    d['type'] = type_doc\n",
    "    d['number'] = num_doc\n",
    "    d['name'] = own_doc\n",
    "    documents.append(d)    \n",
    "    directories[new_sh].append(num_doc)\n",
    "    print (documents)\n",
    "    print(directories)\n",
    "command = input('Введите команду')\n",
    "if command == 'd': delete()\n",
    "if command == 'm': move()\n",
    "if command == 'm2': move2()\n",
    "if command == 'a': add()    "
   ]
  },
  {
   "cell_type": "code",
   "execution_count": null,
   "metadata": {},
   "outputs": [],
   "source": []
  },
  {
   "cell_type": "code",
   "execution_count": null,
   "metadata": {},
   "outputs": [],
   "source": []
  }
 ],
 "metadata": {
  "kernelspec": {
   "display_name": "Python 3",
   "language": "python",
   "name": "python3"
  },
  "language_info": {
   "codemirror_mode": {
    "name": "ipython",
    "version": 3
   },
   "file_extension": ".py",
   "mimetype": "text/x-python",
   "name": "python",
   "nbconvert_exporter": "python",
   "pygments_lexer": "ipython3",
   "version": "3.7.3"
  }
 },
 "nbformat": 4,
 "nbformat_minor": 2
}
